{
  "cells": [
    {
      "cell_type": "markdown",
      "metadata": {
        "id": "n-Nji12mQJPR"
      },
      "source": [
        "# Setting Up"
      ]
    },
    {
      "cell_type": "code",
      "execution_count": null,
      "metadata": {
        "id": "7Aie1wQaQInd",
        "colab": {
          "base_uri": "https://localhost:8080/"
        },
        "outputId": "907a1f72-1cb5-473b-b60d-7206576fbb83"
      },
      "outputs": [
        {
          "output_type": "stream",
          "name": "stdout",
          "text": [
            "Looking in indexes: https://pypi.org/simple, https://us-python.pkg.dev/colab-wheels/public/simple/\n",
            "Collecting hazm\n",
            "  Downloading hazm-0.7.0-py3-none-any.whl (316 kB)\n",
            "\u001b[K     |████████████████████████████████| 316 kB 5.1 MB/s \n",
            "\u001b[?25hCollecting nltk==3.3\n",
            "  Downloading nltk-3.3.0.zip (1.4 MB)\n",
            "\u001b[K     |████████████████████████████████| 1.4 MB 47.5 MB/s \n",
            "\u001b[?25hCollecting libwapiti>=0.2.1\n",
            "  Downloading libwapiti-0.2.1.tar.gz (233 kB)\n",
            "\u001b[K     |████████████████████████████████| 233 kB 50.4 MB/s \n",
            "\u001b[?25hRequirement already satisfied: six in /usr/local/lib/python3.8/dist-packages (from nltk==3.3->hazm) (1.15.0)\n",
            "Building wheels for collected packages: nltk, libwapiti\n",
            "  Building wheel for nltk (setup.py) ... \u001b[?25l\u001b[?25hdone\n",
            "  Created wheel for nltk: filename=nltk-3.3-py3-none-any.whl size=1394490 sha256=4138680f5e663f1344a4846346a3cdbc23dfbcbc84a43bd69ea64a056216deb0\n",
            "  Stored in directory: /root/.cache/pip/wheels/19/1d/3a/0a8c14c30132b4f9ffd796efbb6746f15b3d6bcfc1055a9346\n",
            "  Building wheel for libwapiti (setup.py) ... \u001b[?25l\u001b[?25hdone\n",
            "  Created wheel for libwapiti: filename=libwapiti-0.2.1-cp38-cp38-linux_x86_64.whl size=153873 sha256=419b618788514fe7677fff2b93153155bd5fb70ef81e91b00229fcf0006f3284\n",
            "  Stored in directory: /root/.cache/pip/wheels/3c/d8/9f/59fd78b2b7d1e9ffcb68fb6de80c2e7c20b804c8cbc4d8fc23\n",
            "Successfully built nltk libwapiti\n",
            "Installing collected packages: nltk, libwapiti, hazm\n",
            "  Attempting uninstall: nltk\n",
            "    Found existing installation: nltk 3.7\n",
            "    Uninstalling nltk-3.7:\n",
            "      Successfully uninstalled nltk-3.7\n",
            "Successfully installed hazm-0.7.0 libwapiti-0.2.1 nltk-3.3\n"
          ]
        }
      ],
      "source": [
        "%pip install hazm"
      ]
    },
    {
      "cell_type": "code",
      "execution_count": null,
      "metadata": {
        "id": "SBa4Sl0uAXD1"
      },
      "outputs": [],
      "source": [
        "!pip install tensorflow-addons"
      ]
    },
    {
      "cell_type": "code",
      "execution_count": null,
      "metadata": {
        "id": "IllST4EvM6WJ"
      },
      "outputs": [],
      "source": [
        "import numpy as np\n",
        "import matplotlib.pyplot as plt\n",
        "import pandas as pd\n",
        "import re\n",
        "import nltk\n",
        "from hazm import *\n",
        "import time"
      ]
    },
    {
      "cell_type": "markdown",
      "metadata": {
        "id": "rUjekLyiz5aS"
      },
      "source": [
        "## Option 1. Pick the dataset from the google drive\n",
        "\n"
      ]
    },
    {
      "cell_type": "code",
      "execution_count": null,
      "metadata": {
        "id": "yJhS2sJ9YmWk"
      },
      "outputs": [],
      "source": [
        "from google.colab import auth\n",
        "auth.authenticate_user()\n",
        "\n",
        "import gspread\n",
        "from google.auth import default\n",
        "creds, _ = default()\n",
        "\n",
        "gc = gspread.authorize(creds)\n",
        "\n",
        "worksheet = gc.open('FFFa').sheet1\n",
        "\n",
        "rows = worksheet.get_all_values()\n",
        "\n",
        "dataset = pd.DataFrame(rows[1:],columns=rows[0])\n",
        "\n",
        "dataset['Id'] = pd.to_numeric(dataset['Id'])\n",
        "dataset['Sentence'] = dataset['Sentence'].astype(str)\n",
        "dataset['Label'] = pd.to_numeric(dataset['Label'])"
      ]
    },
    {
      "cell_type": "markdown",
      "metadata": {
        "id": "AucEd3nz0U6y"
      },
      "source": [
        "## Option 2. Upload the dataset"
      ]
    },
    {
      "cell_type": "code",
      "execution_count": null,
      "metadata": {
        "id": "5ZOX5sWNNOIT"
      },
      "outputs": [],
      "source": [
        "dataset = pd.read_csv('/content/sample_data/EnDataset.tsv', delimiter = '\\t', quoting = 3)"
      ]
    },
    {
      "cell_type": "code",
      "execution_count": null,
      "metadata": {
        "colab": {
          "base_uri": "https://localhost:8080/",
          "height": 424
        },
        "id": "O8mAlziGUzLY",
        "outputId": "7a7e2208-96db-472e-a231-acbdcfe5cd63"
      },
      "outputs": [
        {
          "output_type": "execute_result",
          "data": {
            "text/plain": [
              "          Id                                           Sentence  Label\n",
              "0          1  Chemistry is the scientific study of the prope...      0\n",
              "1          2  In the scope of its subject, chemistry occupie...      0\n",
              "2          3  The word chemistry comes from a modification d...      0\n",
              "3          4  The modern word alchemy in turn is derived fro...      0\n",
              "4          5  The current model of atomic structure is the q...      0\n",
              "...      ...                                                ...    ...\n",
              "23460  23461  OI provides continuous, real-time analytics on...     16\n",
              "23461  23462  If all that is needed is a glimpse at historic...     16\n",
              "23462  23463  System Management mainly refers to the availab...     16\n",
              "23463  23464  There is a strong relationship between complex...     16\n",
              "23464  23465  Business activity monitoring (BAM) is software...     16\n",
              "\n",
              "[23465 rows x 3 columns]"
            ],
            "text/html": [
              "\n",
              "  <div id=\"df-e83652fb-dc59-4c60-abd8-ddcf6d1f65f2\">\n",
              "    <div class=\"colab-df-container\">\n",
              "      <div>\n",
              "<style scoped>\n",
              "    .dataframe tbody tr th:only-of-type {\n",
              "        vertical-align: middle;\n",
              "    }\n",
              "\n",
              "    .dataframe tbody tr th {\n",
              "        vertical-align: top;\n",
              "    }\n",
              "\n",
              "    .dataframe thead th {\n",
              "        text-align: right;\n",
              "    }\n",
              "</style>\n",
              "<table border=\"1\" class=\"dataframe\">\n",
              "  <thead>\n",
              "    <tr style=\"text-align: right;\">\n",
              "      <th></th>\n",
              "      <th>Id</th>\n",
              "      <th>Sentence</th>\n",
              "      <th>Label</th>\n",
              "    </tr>\n",
              "  </thead>\n",
              "  <tbody>\n",
              "    <tr>\n",
              "      <th>0</th>\n",
              "      <td>1</td>\n",
              "      <td>Chemistry is the scientific study of the prope...</td>\n",
              "      <td>0</td>\n",
              "    </tr>\n",
              "    <tr>\n",
              "      <th>1</th>\n",
              "      <td>2</td>\n",
              "      <td>In the scope of its subject, chemistry occupie...</td>\n",
              "      <td>0</td>\n",
              "    </tr>\n",
              "    <tr>\n",
              "      <th>2</th>\n",
              "      <td>3</td>\n",
              "      <td>The word chemistry comes from a modification d...</td>\n",
              "      <td>0</td>\n",
              "    </tr>\n",
              "    <tr>\n",
              "      <th>3</th>\n",
              "      <td>4</td>\n",
              "      <td>The modern word alchemy in turn is derived fro...</td>\n",
              "      <td>0</td>\n",
              "    </tr>\n",
              "    <tr>\n",
              "      <th>4</th>\n",
              "      <td>5</td>\n",
              "      <td>The current model of atomic structure is the q...</td>\n",
              "      <td>0</td>\n",
              "    </tr>\n",
              "    <tr>\n",
              "      <th>...</th>\n",
              "      <td>...</td>\n",
              "      <td>...</td>\n",
              "      <td>...</td>\n",
              "    </tr>\n",
              "    <tr>\n",
              "      <th>23460</th>\n",
              "      <td>23461</td>\n",
              "      <td>OI provides continuous, real-time analytics on...</td>\n",
              "      <td>16</td>\n",
              "    </tr>\n",
              "    <tr>\n",
              "      <th>23461</th>\n",
              "      <td>23462</td>\n",
              "      <td>If all that is needed is a glimpse at historic...</td>\n",
              "      <td>16</td>\n",
              "    </tr>\n",
              "    <tr>\n",
              "      <th>23462</th>\n",
              "      <td>23463</td>\n",
              "      <td>System Management mainly refers to the availab...</td>\n",
              "      <td>16</td>\n",
              "    </tr>\n",
              "    <tr>\n",
              "      <th>23463</th>\n",
              "      <td>23464</td>\n",
              "      <td>There is a strong relationship between complex...</td>\n",
              "      <td>16</td>\n",
              "    </tr>\n",
              "    <tr>\n",
              "      <th>23464</th>\n",
              "      <td>23465</td>\n",
              "      <td>Business activity monitoring (BAM) is software...</td>\n",
              "      <td>16</td>\n",
              "    </tr>\n",
              "  </tbody>\n",
              "</table>\n",
              "<p>23465 rows × 3 columns</p>\n",
              "</div>\n",
              "      <button class=\"colab-df-convert\" onclick=\"convertToInteractive('df-e83652fb-dc59-4c60-abd8-ddcf6d1f65f2')\"\n",
              "              title=\"Convert this dataframe to an interactive table.\"\n",
              "              style=\"display:none;\">\n",
              "        \n",
              "  <svg xmlns=\"http://www.w3.org/2000/svg\" height=\"24px\"viewBox=\"0 0 24 24\"\n",
              "       width=\"24px\">\n",
              "    <path d=\"M0 0h24v24H0V0z\" fill=\"none\"/>\n",
              "    <path d=\"M18.56 5.44l.94 2.06.94-2.06 2.06-.94-2.06-.94-.94-2.06-.94 2.06-2.06.94zm-11 1L8.5 8.5l.94-2.06 2.06-.94-2.06-.94L8.5 2.5l-.94 2.06-2.06.94zm10 10l.94 2.06.94-2.06 2.06-.94-2.06-.94-.94-2.06-.94 2.06-2.06.94z\"/><path d=\"M17.41 7.96l-1.37-1.37c-.4-.4-.92-.59-1.43-.59-.52 0-1.04.2-1.43.59L10.3 9.45l-7.72 7.72c-.78.78-.78 2.05 0 2.83L4 21.41c.39.39.9.59 1.41.59.51 0 1.02-.2 1.41-.59l7.78-7.78 2.81-2.81c.8-.78.8-2.07 0-2.86zM5.41 20L4 18.59l7.72-7.72 1.47 1.35L5.41 20z\"/>\n",
              "  </svg>\n",
              "      </button>\n",
              "      \n",
              "  <style>\n",
              "    .colab-df-container {\n",
              "      display:flex;\n",
              "      flex-wrap:wrap;\n",
              "      gap: 12px;\n",
              "    }\n",
              "\n",
              "    .colab-df-convert {\n",
              "      background-color: #E8F0FE;\n",
              "      border: none;\n",
              "      border-radius: 50%;\n",
              "      cursor: pointer;\n",
              "      display: none;\n",
              "      fill: #1967D2;\n",
              "      height: 32px;\n",
              "      padding: 0 0 0 0;\n",
              "      width: 32px;\n",
              "    }\n",
              "\n",
              "    .colab-df-convert:hover {\n",
              "      background-color: #E2EBFA;\n",
              "      box-shadow: 0px 1px 2px rgba(60, 64, 67, 0.3), 0px 1px 3px 1px rgba(60, 64, 67, 0.15);\n",
              "      fill: #174EA6;\n",
              "    }\n",
              "\n",
              "    [theme=dark] .colab-df-convert {\n",
              "      background-color: #3B4455;\n",
              "      fill: #D2E3FC;\n",
              "    }\n",
              "\n",
              "    [theme=dark] .colab-df-convert:hover {\n",
              "      background-color: #434B5C;\n",
              "      box-shadow: 0px 1px 3px 1px rgba(0, 0, 0, 0.15);\n",
              "      filter: drop-shadow(0px 1px 2px rgba(0, 0, 0, 0.3));\n",
              "      fill: #FFFFFF;\n",
              "    }\n",
              "  </style>\n",
              "\n",
              "      <script>\n",
              "        const buttonEl =\n",
              "          document.querySelector('#df-e83652fb-dc59-4c60-abd8-ddcf6d1f65f2 button.colab-df-convert');\n",
              "        buttonEl.style.display =\n",
              "          google.colab.kernel.accessAllowed ? 'block' : 'none';\n",
              "\n",
              "        async function convertToInteractive(key) {\n",
              "          const element = document.querySelector('#df-e83652fb-dc59-4c60-abd8-ddcf6d1f65f2');\n",
              "          const dataTable =\n",
              "            await google.colab.kernel.invokeFunction('convertToInteractive',\n",
              "                                                     [key], {});\n",
              "          if (!dataTable) return;\n",
              "\n",
              "          const docLinkHtml = 'Like what you see? Visit the ' +\n",
              "            '<a target=\"_blank\" href=https://colab.research.google.com/notebooks/data_table.ipynb>data table notebook</a>'\n",
              "            + ' to learn more about interactive tables.';\n",
              "          element.innerHTML = '';\n",
              "          dataTable['output_type'] = 'display_data';\n",
              "          await google.colab.output.renderOutput(dataTable, element);\n",
              "          const docLink = document.createElement('div');\n",
              "          docLink.innerHTML = docLinkHtml;\n",
              "          element.appendChild(docLink);\n",
              "        }\n",
              "      </script>\n",
              "    </div>\n",
              "  </div>\n",
              "  "
            ]
          },
          "metadata": {},
          "execution_count": 5
        }
      ],
      "source": [
        "dataset"
      ]
    },
    {
      "cell_type": "markdown",
      "metadata": {
        "id": "HSoYBX9o2JEO"
      },
      "source": [
        "## Mount the google drive in case we want to store a file on it"
      ]
    },
    {
      "cell_type": "code",
      "execution_count": null,
      "metadata": {
        "colab": {
          "base_uri": "https://localhost:8080/"
        },
        "id": "ePg-SWRs7-zN",
        "outputId": "e6ad5843-a13f-4a06-fafb-7ed2ccb4579a"
      },
      "outputs": [
        {
          "name": "stdout",
          "output_type": "stream",
          "text": [
            "Drive already mounted at /content/drive; to attempt to forcibly remount, call drive.mount(\"/content/drive\", force_remount=True).\n"
          ]
        }
      ],
      "source": [
        "from google.colab import drive\n",
        "drive.mount('/content/drive')"
      ]
    },
    {
      "cell_type": "markdown",
      "metadata": {
        "id": "Zpq-oZ2x3sKi"
      },
      "source": [
        "# Encoding the Labels"
      ]
    },
    {
      "cell_type": "markdown",
      "metadata": {
        "id": "nwFq27Pj4FuJ"
      },
      "source": [
        "In order to encode the labels, first we need to find out how many labels we have. To achieve this purpose, We use the following code: "
      ]
    },
    {
      "cell_type": "code",
      "execution_count": null,
      "metadata": {
        "colab": {
          "base_uri": "https://localhost:8080/"
        },
        "id": "aPUlRbQV4COJ",
        "outputId": "4cd60d1c-12af-4973-d029-71c78c0b43b6"
      },
      "outputs": [
        {
          "output_type": "stream",
          "name": "stdout",
          "text": [
            "17\n"
          ]
        }
      ],
      "source": [
        "labels_length = []\n",
        "n = 0\n",
        "\n",
        "for i, label in enumerate(dataset['Label']):\n",
        "  if(n != label):\n",
        "    if(len(labels_length) > 0):\n",
        "      prior = labels_length[-1]\n",
        "    else:\n",
        "      prior = 0\n",
        "    labels_length.append(i - prior)\n",
        "    n = label\n",
        "\n",
        "labels_length.append(len(dataset) - labels_length[-1])\n",
        "label_count = len(labels_length)\n",
        "\n",
        "print(len(labels_length))"
      ]
    },
    {
      "cell_type": "markdown",
      "metadata": {
        "id": "Mlfh6Mn47u6J"
      },
      "source": [
        "In this research, we have decided to use 17 labels for our records. using the following blocks of code, we encode these labels into the proper format:"
      ]
    },
    {
      "cell_type": "code",
      "execution_count": null,
      "metadata": {
        "colab": {
          "base_uri": "https://localhost:8080/"
        },
        "id": "8t8YzDruXaHg",
        "outputId": "b0821db7-ffa7-4614-a0b6-17bd502bde67"
      },
      "outputs": [
        {
          "output_type": "execute_result",
          "data": {
            "text/plain": [
              "(14224, 17)"
            ]
          },
          "metadata": {},
          "execution_count": 27
        }
      ],
      "source": [
        "y = np.zeros((len(dataset), label_count))\n",
        "y.shape"
      ]
    },
    {
      "cell_type": "code",
      "execution_count": null,
      "metadata": {
        "id": "AMYZ4dRhs6Cx"
      },
      "outputs": [],
      "source": [
        "y[np.arange(len(dataset)), dataset['Label'].values] = 1"
      ]
    },
    {
      "cell_type": "code",
      "execution_count": null,
      "metadata": {
        "colab": {
          "base_uri": "https://localhost:8080/"
        },
        "id": "VNcyRWs4tVeP",
        "outputId": "8704edf8-e417-44a4-f660-1bb33de65211"
      },
      "outputs": [
        {
          "output_type": "execute_result",
          "data": {
            "text/plain": [
              "array([[1., 0., 0., ..., 0., 0., 0.],\n",
              "       [1., 0., 0., ..., 0., 0., 0.],\n",
              "       [1., 0., 0., ..., 0., 0., 0.],\n",
              "       ...,\n",
              "       [0., 0., 0., ..., 0., 0., 1.],\n",
              "       [0., 0., 0., ..., 0., 0., 1.],\n",
              "       [0., 0., 0., ..., 0., 0., 1.]])"
            ]
          },
          "metadata": {},
          "execution_count": 6
        }
      ],
      "source": [
        "y"
      ]
    },
    {
      "cell_type": "markdown",
      "metadata": {
        "id": "S1W2qht2NQni"
      },
      "source": [
        "#Text Cleansing"
      ]
    },
    {
      "cell_type": "markdown",
      "metadata": {
        "id": "8xnvr95g9odN"
      },
      "source": [
        "To clean the English & Persian paragraphs, we need to use different libraries. Therefore, We have used separate blocks of codes for them:"
      ]
    },
    {
      "cell_type": "markdown",
      "metadata": {
        "id": "CtZ7mZtn7ww7"
      },
      "source": [
        "## Persian"
      ]
    },
    {
      "cell_type": "code",
      "execution_count": null,
      "metadata": {
        "id": "11FCrvvWNUZq"
      },
      "outputs": [],
      "source": [
        "normalizer = Normalizer()\n",
        "stemmer = Stemmer() # In case\n",
        "lemmatizer = Lemmatizer()\n",
        "corpus = []\n",
        "is_fa = True\n",
        "\n",
        "for i in range(0, dataset.shape[0]):\n",
        "  content = re.sub('[^آ-ی‌]', ' ', dataset['Sentence'][i])\n",
        "  content = normalizer.normalize(content)\n",
        "  words = content.split()\n",
        "  stopwords = stopwords_list()\n",
        "  words = [lemmatizer.lemmatize(word) for word in words]\n",
        "  words = [word for word in words if not word in stopwords]\n",
        "  content = ' '.join(words)\n",
        "  corpus.append(content)"
      ]
    },
    {
      "cell_type": "markdown",
      "metadata": {
        "id": "JEurLl2J90qU"
      },
      "source": [
        "## English"
      ]
    },
    {
      "cell_type": "markdown",
      "metadata": {
        "id": "eJuoKh1G94i0"
      },
      "source": [
        "To cleanse the English paragraphs, we have to first install some data:"
      ]
    },
    {
      "cell_type": "code",
      "execution_count": null,
      "metadata": {
        "id": "eMF6WOf6Zs8G",
        "colab": {
          "base_uri": "https://localhost:8080/"
        },
        "outputId": "69364ba0-b67b-4d11-cb8f-8c25e55b733e"
      },
      "outputs": [
        {
          "output_type": "stream",
          "name": "stdout",
          "text": [
            "[nltk_data] Downloading package wordnet to /root/nltk_data/...\n"
          ]
        },
        {
          "output_type": "execute_result",
          "data": {
            "text/plain": [
              "True"
            ]
          },
          "metadata": {},
          "execution_count": 7
        }
      ],
      "source": [
        "nltk.download('wordnet', '/root/nltk_data/')"
      ]
    },
    {
      "cell_type": "code",
      "execution_count": null,
      "metadata": {
        "id": "_CLvLcvdY8rF",
        "colab": {
          "base_uri": "https://localhost:8080/"
        },
        "outputId": "35e3c804-f3f9-4f6a-b380-43068a40fc56"
      },
      "outputs": [
        {
          "output_type": "stream",
          "name": "stdout",
          "text": [
            "[nltk_data] Downloading package stopwords to /root/nltk_data...\n",
            "[nltk_data]   Unzipping corpora/stopwords.zip.\n"
          ]
        },
        {
          "output_type": "execute_result",
          "data": {
            "text/plain": [
              "True"
            ]
          },
          "metadata": {},
          "execution_count": 8
        }
      ],
      "source": [
        "nltk.download('stopwords')"
      ]
    },
    {
      "cell_type": "code",
      "execution_count": null,
      "metadata": {
        "colab": {
          "base_uri": "https://localhost:8080/"
        },
        "id": "fLxGaGbPcyye",
        "outputId": "13381725-a76a-42f5-819b-eb784ecfdd7e"
      },
      "outputs": [
        {
          "output_type": "stream",
          "name": "stdout",
          "text": [
            "Archive:  /root/nltk_data/corpora/wordnet.zip\n",
            "   creating: wordnet/\n",
            "  inflating: wordnet/lexnames        \n",
            "  inflating: wordnet/data.verb       \n",
            "  inflating: wordnet/index.adv       \n",
            "  inflating: wordnet/adv.exc         \n",
            "  inflating: wordnet/index.verb      \n",
            "  inflating: wordnet/cntlist.rev     \n",
            "  inflating: wordnet/data.adj        \n",
            "  inflating: wordnet/index.adj       \n",
            "  inflating: wordnet/LICENSE         \n",
            "  inflating: wordnet/citation.bib    \n",
            "  inflating: wordnet/noun.exc        \n",
            "  inflating: wordnet/verb.exc        \n",
            "  inflating: wordnet/README          \n",
            "  inflating: wordnet/index.sense     \n",
            "  inflating: wordnet/data.noun       \n",
            "  inflating: wordnet/data.adv        \n",
            "  inflating: wordnet/index.noun      \n",
            "  inflating: wordnet/adj.exc         \n"
          ]
        }
      ],
      "source": [
        "!unzip /root/nltk_data/corpora/wordnet.zip"
      ]
    },
    {
      "cell_type": "markdown",
      "metadata": {
        "id": "ZnZM2yhg7zpq"
      },
      "source": [
        "Now we can start the cleansing process:"
      ]
    },
    {
      "cell_type": "code",
      "execution_count": null,
      "metadata": {
        "id": "tZATKjbu7vRK"
      },
      "outputs": [],
      "source": [
        "from nltk.corpus import stopwords\n",
        "from nltk.stem.porter import PorterStemmer\n",
        "from nltk.stem import WordNetLemmatizer\n",
        "\n",
        "is_fa = False\n",
        "\n",
        "ps = PorterStemmer()\n",
        "lemmatizer = WordNetLemmatizer()\n",
        "corpus = []\n",
        "for i in range(0, dataset.shape[0]):\n",
        "  content = re.sub('[^a-zA-Z]', ' ', str(dataset['Sentence'][i]))\n",
        "  content = content.lower()\n",
        "  words = content.split()\n",
        "  words = [lemmatizer.lemmatize(word) for word in words if not word in set(stopwords.words('english'))]\n",
        "  content = ' '.join(words)\n",
        "  corpus.append(content)"
      ]
    },
    {
      "cell_type": "code",
      "execution_count": null,
      "metadata": {
        "colab": {
          "base_uri": "https://localhost:8080/"
        },
        "id": "sML1iSrZQP_r",
        "outputId": "409c7b29-5c04-494c-e98a-74cb8e5a9605"
      },
      "outputs": [
        {
          "output_type": "stream",
          "name": "stdout",
          "text": [
            "chemistry scientific study property behavior matter natural science cover element make matter compound composed atom molecule ion composition structure property behavior change undergo reaction substance\n"
          ]
        }
      ],
      "source": [
        "print(corpus[0])"
      ]
    },
    {
      "cell_type": "markdown",
      "metadata": {
        "id": "IvsTUQSvNV3q"
      },
      "source": [
        "#Creating the Bag of Words"
      ]
    },
    {
      "cell_type": "code",
      "execution_count": null,
      "metadata": {
        "id": "AfBwkUhTNoIq"
      },
      "outputs": [],
      "source": [
        "from sklearn.feature_extraction.text import CountVectorizer\n",
        "\n",
        "cv = CountVectorizer(max_features = 10000)\n",
        "X = cv.fit_transform(corpus).toarray()"
      ]
    },
    {
      "cell_type": "code",
      "execution_count": null,
      "metadata": {
        "colab": {
          "base_uri": "https://localhost:8080/"
        },
        "id": "qPjTpWdA95Ei",
        "outputId": "168b0844-25cd-46fd-b423-a8db7d19ec10"
      },
      "outputs": [
        {
          "output_type": "execute_result",
          "data": {
            "text/plain": [
              "array([[0, 0, 0, ..., 0, 0, 0],\n",
              "       [0, 0, 0, ..., 0, 0, 0],\n",
              "       [0, 0, 0, ..., 0, 0, 0],\n",
              "       ...,\n",
              "       [0, 0, 0, ..., 0, 0, 0],\n",
              "       [0, 0, 0, ..., 0, 0, 0],\n",
              "       [0, 0, 0, ..., 0, 0, 0]])"
            ]
          },
          "metadata": {},
          "execution_count": 14
        }
      ],
      "source": [
        "X"
      ]
    },
    {
      "cell_type": "markdown",
      "metadata": {
        "id": "KFdOx0nZNreC"
      },
      "source": [
        "#Splitting the dataset"
      ]
    },
    {
      "cell_type": "code",
      "execution_count": null,
      "metadata": {
        "colab": {
          "base_uri": "https://localhost:8080/"
        },
        "id": "_hEiYYoLNthR",
        "outputId": "b1f422d8-6eea-4aa7-ca88-e10d434b1947"
      },
      "outputs": [
        {
          "output_type": "stream",
          "name": "stdout",
          "text": [
            "(4693, 18) (4693, 17)\n",
            "(18772, 18) (18772, 17)\n"
          ]
        }
      ],
      "source": [
        "from sklearn.model_selection import train_test_split\n",
        "X_train, X_test, y_train, y_test = train_test_split(X, y, test_size = 0.20, random_state = 42)\n",
        "\n",
        "print(X_test.shape, y_test.shape)\n",
        "print(X_train.shape, y_train.shape)"
      ]
    },
    {
      "cell_type": "code",
      "execution_count": null,
      "metadata": {
        "id": "L1XpqMY0QScc"
      },
      "outputs": [],
      "source": [
        "y_train_obj = [str(item) for item in y_train]"
      ]
    },
    {
      "cell_type": "markdown",
      "metadata": {
        "id": "yUdM-y1pL92K"
      },
      "source": [
        "# Training the K-Nearest Neighbors Model"
      ]
    },
    {
      "cell_type": "code",
      "execution_count": null,
      "metadata": {
        "colab": {
          "base_uri": "https://localhost:8080/"
        },
        "id": "Nn7J9SW2L4ao",
        "outputId": "c697d3e7-8082-4b61-a52e-1fe6965204b5"
      },
      "outputs": [
        {
          "output_type": "stream",
          "name": "stdout",
          "text": [
            "0.0359652042388916\n"
          ]
        }
      ],
      "source": [
        "from sklearn.neighbors import KNeighborsClassifier\n",
        "\n",
        "start_time = time.time()\n",
        "\n",
        "classifier = KNeighborsClassifier(n_neighbors = 1, metric = 'minkowski', p = 2)\n",
        "classifier.fit(X_train, y_train)\n",
        "\n",
        "print(time.time() - start_time)"
      ]
    },
    {
      "cell_type": "markdown",
      "metadata": {
        "id": "2cgeBTmDNxu4"
      },
      "source": [
        "#Training the Naive Bayes Model"
      ]
    },
    {
      "cell_type": "code",
      "execution_count": null,
      "metadata": {
        "colab": {
          "base_uri": "https://localhost:8080/"
        },
        "id": "SP8j62t7NzEJ",
        "outputId": "77a4847a-af12-4cc2-ae12-dc54d08e6893"
      },
      "outputs": [
        {
          "output_type": "stream",
          "name": "stdout",
          "text": [
            "2.9947898387908936\n"
          ]
        }
      ],
      "source": [
        "from sklearn.naive_bayes import GaussianNB\n",
        "\n",
        "start_time = time.time()\n",
        "classifier = GaussianNB()\n",
        "classifier.fit(X_train, y_train_obj)\n",
        "print(time.time() - start_time)"
      ]
    },
    {
      "cell_type": "markdown",
      "metadata": {
        "id": "D3oTtR9yHiWd"
      },
      "source": [
        "# Training the Logistic Regression Model"
      ]
    },
    {
      "cell_type": "code",
      "execution_count": null,
      "metadata": {
        "colab": {
          "base_uri": "https://localhost:8080/"
        },
        "id": "e0pFVAmciHQs",
        "outputId": "d8ca6f43-4adf-49a4-eb91-eea2a0603996"
      },
      "outputs": [
        {
          "output_type": "stream",
          "name": "stdout",
          "text": [
            "150.20131063461304\n"
          ]
        }
      ],
      "source": [
        "from sklearn.linear_model import LogisticRegression\n",
        "\n",
        "start_time = time.time()\n",
        "classifier = LogisticRegression(random_state = 0)\n",
        "classifier.fit(X_train, y_train_obj)\n",
        "print(time.time() - start_time)"
      ]
    },
    {
      "cell_type": "code",
      "execution_count": null,
      "metadata": {
        "id": "KRem12za7cvs"
      },
      "outputs": [],
      "source": []
    },
    {
      "cell_type": "markdown",
      "metadata": {
        "id": "HG0cDUpZOypa"
      },
      "source": [
        "# Training the Support Vector Machine Model"
      ]
    },
    {
      "cell_type": "code",
      "execution_count": null,
      "metadata": {
        "colab": {
          "base_uri": "https://localhost:8080/"
        },
        "id": "igSbdHhsOwLi",
        "outputId": "76450cad-c911-4c68-b84e-5e29ec3eb1e7"
      },
      "outputs": [
        {
          "output_type": "stream",
          "name": "stdout",
          "text": [
            "1844.5621678829193\n"
          ]
        }
      ],
      "source": [
        "from sklearn.svm import SVC\n",
        "\n",
        "start_time = time.time()\n",
        "classifier = SVC(kernel = 'linear', random_state = 0)\n",
        "classifier.fit(X_train, y_train_obj)\n",
        "print(time.time() - start_time)"
      ]
    },
    {
      "cell_type": "markdown",
      "metadata": {
        "id": "5MKjoCHPQlMv"
      },
      "source": [
        "# Training the Kernel Support Vector Machine"
      ]
    },
    {
      "cell_type": "code",
      "execution_count": null,
      "metadata": {
        "id": "Zqx-FuNFQkGH",
        "colab": {
          "base_uri": "https://localhost:8080/"
        },
        "outputId": "9ffc94a7-8980-41cd-b616-282a1702a860"
      },
      "outputs": [
        {
          "output_type": "stream",
          "name": "stdout",
          "text": [
            "4649.492221355438\n"
          ]
        }
      ],
      "source": [
        "from sklearn.svm import SVC\n",
        "\n",
        "start_time = time.time()\n",
        "classifier = SVC(kernel = 'rbf', random_state = 0)\n",
        "classifier.fit(X_train, y_train_obj)\n",
        "print(time.time() - start_time)"
      ]
    },
    {
      "cell_type": "markdown",
      "metadata": {
        "id": "4_Xm_TdmPrM6"
      },
      "source": [
        "# Training the Decision Tree Model"
      ]
    },
    {
      "cell_type": "code",
      "execution_count": null,
      "metadata": {
        "colab": {
          "base_uri": "https://localhost:8080/"
        },
        "id": "uOxawYedPqXw",
        "outputId": "9241dd06-deb2-4e50-bf2b-780da667b636"
      },
      "outputs": [
        {
          "output_type": "stream",
          "name": "stdout",
          "text": [
            "297.12559700012207\n"
          ]
        }
      ],
      "source": [
        "from sklearn.tree import DecisionTreeClassifier\n",
        "\n",
        "start_time = time.time()\n",
        "classifier = DecisionTreeClassifier(criterion = 'gini', random_state = 0)\n",
        "classifier.fit(X_train, y_train)\n",
        "print(time.time() - start_time)"
      ]
    },
    {
      "cell_type": "markdown",
      "metadata": {
        "id": "X2X19cSeN1QA"
      },
      "source": [
        "#Training the Random Forest Model"
      ]
    },
    {
      "cell_type": "code",
      "execution_count": null,
      "metadata": {
        "colab": {
          "base_uri": "https://localhost:8080/"
        },
        "id": "AnSp7VHlN4RA",
        "outputId": "1752d148-4719-4173-a6a1-8be1c6afb942"
      },
      "outputs": [
        {
          "output_type": "stream",
          "name": "stdout",
          "text": [
            "14.323549509048462\n"
          ]
        }
      ],
      "source": [
        "from sklearn.ensemble import RandomForestClassifier\n",
        "\n",
        "start_time = time.time()\n",
        "classifier = RandomForestClassifier(n_estimators = 5, criterion = 'gini', random_state = 42)\n",
        "classifier.fit(X_train, y_train)\n",
        "print(time.time() - start_time)"
      ]
    },
    {
      "cell_type": "markdown",
      "metadata": {
        "id": "MWBkd5nHVFlZ"
      },
      "source": [
        "# Training the Aritificial Neural Network (ANN)"
      ]
    },
    {
      "cell_type": "markdown",
      "metadata": {
        "id": "9Gh7gaGaEKz5"
      },
      "source": [
        "## Creating the Model"
      ]
    },
    {
      "cell_type": "code",
      "execution_count": null,
      "metadata": {
        "id": "gTjHWGZ2VN_U"
      },
      "outputs": [],
      "source": [
        "import tensorflow as tf\n",
        "from keras.layers import Dense\n",
        "\n",
        "model = tf.keras.models.Sequential()\n",
        "act = tf.keras.activations\n",
        "\n",
        "model.add(Dense(units=500, activation=act.relu))\n",
        "# ann.add(Dense(units=68, activation=act.relu))\n",
        "model.add(Dense(units=17, activation=act.softmax))"
      ]
    },
    {
      "cell_type": "markdown",
      "metadata": {
        "id": "v7yg4lRwERW2"
      },
      "source": [
        "## Compiling the created model"
      ]
    },
    {
      "cell_type": "code",
      "execution_count": null,
      "metadata": {
        "id": "-25ADEa4ETMu"
      },
      "outputs": [],
      "source": [
        "model.compile(optimizer = 'adam', loss = 'categorical_crossentropy', metrics = ['categorical_accuracy'])"
      ]
    },
    {
      "cell_type": "markdown",
      "metadata": {
        "id": "Jh5fqtWiErG0"
      },
      "source": [
        "## Training the Model"
      ]
    },
    {
      "cell_type": "code",
      "execution_count": null,
      "metadata": {
        "colab": {
          "base_uri": "https://localhost:8080/"
        },
        "id": "whpjxobREpMd",
        "outputId": "9970caef-0c1f-4738-f796-a20bdcd72546"
      },
      "outputs": [
        {
          "output_type": "stream",
          "name": "stdout",
          "text": [
            "Epoch 1/8\n",
            "188/188 [==============================] - 12s 62ms/step - loss: 0.8337 - categorical_accuracy: 0.8088\n",
            "Epoch 2/8\n",
            "188/188 [==============================] - 11s 60ms/step - loss: 0.0890 - categorical_accuracy: 0.9851\n",
            "Epoch 3/8\n",
            "188/188 [==============================] - 12s 62ms/step - loss: 0.0198 - categorical_accuracy: 0.9990\n",
            "Epoch 4/8\n",
            "188/188 [==============================] - 13s 69ms/step - loss: 0.0081 - categorical_accuracy: 0.9998\n",
            "Epoch 5/8\n",
            "188/188 [==============================] - 11s 61ms/step - loss: 0.0045 - categorical_accuracy: 0.9999\n",
            "Epoch 6/8\n",
            "188/188 [==============================] - 11s 58ms/step - loss: 0.0035 - categorical_accuracy: 0.9999\n",
            "Epoch 7/8\n",
            "188/188 [==============================] - 11s 60ms/step - loss: 0.0021 - categorical_accuracy: 1.0000\n",
            "Epoch 8/8\n",
            "188/188 [==============================] - 12s 62ms/step - loss: 0.0016 - categorical_accuracy: 1.0000\n",
            "\n",
            " total time: 93.20284748077393 seconds\n"
          ]
        }
      ],
      "source": [
        "start_time = time.time()\n",
        "\n",
        "history = model.fit(X_train, y_train, batch_size = 100, epochs = 8)\n",
        "classifier = model\n",
        "\n",
        "print('\\n total time: ' + str(time.time() - start_time) + ' seconds')"
      ]
    },
    {
      "cell_type": "markdown",
      "source": [
        "## Displaying the Training process with graphs"
      ],
      "metadata": {
        "id": "XRFSVaxrMbwX"
      }
    },
    {
      "cell_type": "code",
      "source": [
        "import matplotlib.pyplot as plt\n",
        "\n",
        "def plot_graphs(history, metric):\n",
        "  plt.plot(history.history[metric])\n",
        "  plt.plot(history.history['val_'+metric], '')\n",
        "  plt.xlabel(\"Epochs\")\n",
        "  plt.ylabel(metric)\n",
        "  plt.legend([metric, 'val_'+metric])"
      ],
      "metadata": {
        "id": "QtBM1FTiMtbq"
      },
      "execution_count": null,
      "outputs": []
    },
    {
      "cell_type": "code",
      "source": [
        "plt.figure(figsize=(32, 8))\n",
        "plt.subplot(1, 2, 1)\n",
        "plot_graphs(history, 'categorical_accuracy')\n",
        "plt.ylim(None, 1)"
      ],
      "metadata": {
        "colab": {
          "base_uri": "https://localhost:8080/",
          "height": 518
        },
        "id": "vagkxWPuWw3l",
        "outputId": "15ca6896-9000-49bc-941f-7d84c6a47fee"
      },
      "execution_count": null,
      "outputs": [
        {
          "output_type": "execute_result",
          "data": {
            "text/plain": [
              "(0.7280351012945175, 1.0)"
            ]
          },
          "metadata": {},
          "execution_count": 45
        },
        {
          "output_type": "display_data",
          "data": {
            "text/plain": [
              "<Figure size 2304x576 with 1 Axes>"
            ],
            "image/png": "[encoded data removed]"
          },
          "metadata": {
            "needs_background": "light"
          }
        }
      ]
    },
    {
      "cell_type": "code",
      "source": [
        "plt.figure(figsize=(32, 8))\n",
        "plt.subplot(1, 2, 1)\n",
        "plot_graphs(history, 'loss')\n",
        "plt.ylim(None, 1.3)"
      ],
      "metadata": {
        "colab": {
          "base_uri": "https://localhost:8080/",
          "height": 514
        },
        "id": "oqxMi-6YdBCt",
        "outputId": "683db10c-5fe9-4466-e575-dea5ba7399ba"
      },
      "execution_count": null,
      "outputs": [
        {
          "output_type": "execute_result",
          "data": {
            "text/plain": [
              "(-0.05458163381554187, 1.3)"
            ]
          },
          "metadata": {},
          "execution_count": 51
        },
        {
          "output_type": "display_data",
          "data": {
            "text/plain": [
              "<Figure size 2304x576 with 1 Axes>"
            ],
            "image/png": "[encoded data removed]"
          },
          "metadata": {
            "needs_background": "light"
          }
        }
      ]
    },
    {
      "cell_type": "markdown",
      "metadata": {
        "id": "uPbUHlOzP-Es"
      },
      "source": [
        "# Training with the Recurrent Nueral Network (RNN)"
      ]
    },
    {
      "cell_type": "markdown",
      "metadata": {
        "id": "vpBuj37hQCjl"
      },
      "source": [
        "To utilize the RNN model, it is required another type of word vectorizer to create the bag of words. Using the following blocks of codes, we have created a suitable tokenizer:"
      ]
    },
    {
      "cell_type": "markdown",
      "metadata": {
        "id": "9qVPUDa3GoTK"
      },
      "source": [
        "## Setting up the Tokenizer"
      ]
    },
    {
      "cell_type": "markdown",
      "metadata": {
        "id": "E3KOCTQcSMFK"
      },
      "source": [
        "### Creating the Tokenizer"
      ]
    },
    {
      "cell_type": "code",
      "execution_count": null,
      "metadata": {
        "colab": {
          "base_uri": "https://localhost:8080/"
        },
        "id": "u60BbehHl0he",
        "outputId": "5742fa54-f486-42ad-f11f-2aff234d228d"
      },
      "outputs": [
        {
          "output_type": "stream",
          "name": "stdout",
          "text": [
            "Found 37364 unique tokens.\n"
          ]
        }
      ],
      "source": [
        "from keras.preprocessing import text\n",
        "\n",
        "MAX_NB_WORDS = 5000\n",
        "MAX_SEQUENCE_LENGTH = 250\n",
        "EMBEDDING_DIM = 100\n",
        "\n",
        "tokenizer = text.Tokenizer(num_words=MAX_NB_WORDS)\n",
        "tokenizer.fit_on_texts(corpus)\n",
        "word_index = tokenizer.word_index\n",
        "print(f'Found {len(word_index)} unique tokens.')"
      ]
    },
    {
      "cell_type": "markdown",
      "metadata": {
        "id": "EMbXRjH8SVim"
      },
      "source": [
        "### Applying the Tokenizer on the corpus"
      ]
    },
    {
      "cell_type": "code",
      "execution_count": null,
      "metadata": {
        "colab": {
          "base_uri": "https://localhost:8080/"
        },
        "id": "YhlgE1HbsHgH",
        "outputId": "2beec0bc-d926-4a68-aa07-a24511e5047b"
      },
      "outputs": [
        {
          "output_type": "stream",
          "name": "stdout",
          "text": [
            "Shape of data tensor: (14224, 250)\n"
          ]
        }
      ],
      "source": [
        "from keras import utils\n",
        "\n",
        "X = tokenizer.texts_to_sequences(corpus)\n",
        "X = utils.pad_sequences(X, maxlen=MAX_SEQUENCE_LENGTH)\n",
        "\n",
        "print('Shape of data tensor:', X.shape)"
      ]
    },
    {
      "cell_type": "markdown",
      "metadata": {
        "id": "QOnK9qchR9og"
      },
      "source": [
        "## Splitting the dataset"
      ]
    },
    {
      "cell_type": "markdown",
      "metadata": {
        "id": "KEbEbEdzSi1_"
      },
      "source": [
        "Now we have to split the dataset the same way we did for other methods:"
      ]
    },
    {
      "cell_type": "code",
      "execution_count": null,
      "metadata": {
        "colab": {
          "base_uri": "https://localhost:8080/"
        },
        "id": "4-dXHVt40rms",
        "outputId": "cfa6104d-6701-4898-e611-d3324bca35af"
      },
      "outputs": [
        {
          "output_type": "stream",
          "name": "stdout",
          "text": [
            "(2845, 250) (2845, 17)\n",
            "(11379, 250) (11379, 17)\n"
          ]
        }
      ],
      "source": [
        "from sklearn.model_selection import train_test_split\n",
        "\n",
        "X_train, X_test, y_train, y_test = train_test_split(X, y, test_size = 0.20, random_state = 42)\n",
        "\n",
        "print(X_test.shape,y_test.shape)\n",
        "print(X_train.shape,y_train.shape)"
      ]
    },
    {
      "cell_type": "markdown",
      "metadata": {
        "id": "HSeq2MikS6NF"
      },
      "source": [
        "## Creating the RNN model"
      ]
    },
    {
      "cell_type": "code",
      "execution_count": null,
      "metadata": {
        "id": "OBuHCWpTs_Fs"
      },
      "outputs": [],
      "source": [
        "import tensorflow as tf\n",
        "from keras.layers import Dense, Dropout, LSTM, SpatialDropout1D, Embedding, Bidirectional\n",
        "\n",
        "model = tf.keras.Sequential()\n",
        "model.add(Embedding(MAX_NB_WORDS, EMBEDDING_DIM, input_length=X.shape[1]))\n",
        "# model.add(SpatialDropout1D(0.2))\n",
        "model.add(LSTM(100))\n",
        "# model.add(LSTM(100, dropout=0.2, recurrent_dropout=0.2))\n",
        "# model.add(Bidirectional(LSTM(50)))\n",
        "# model.add(Dense(units=100, activation='relu'))\n",
        "# model.add(Dropout(0.5))\n",
        "model.add(Dense(17, activation='softmax'))"
      ]
    },
    {
      "cell_type": "markdown",
      "metadata": {
        "id": "yaQl9irOW-61"
      },
      "source": [
        "## Compiling the created RNN"
      ]
    },
    {
      "cell_type": "code",
      "execution_count": null,
      "metadata": {
        "id": "cxVAtEy7XHJY"
      },
      "outputs": [],
      "source": [
        "model.compile(loss='categorical_crossentropy', optimizer='adam', metrics=['accuracy'])"
      ]
    },
    {
      "cell_type": "markdown",
      "metadata": {
        "id": "7LAMqvkskoVe"
      },
      "source": [
        "## Training the compiled RNN"
      ]
    },
    {
      "cell_type": "code",
      "execution_count": null,
      "metadata": {
        "colab": {
          "base_uri": "https://localhost:8080/"
        },
        "id": "72cuJr96knu5",
        "outputId": "7e1aa53c-f50d-492e-da8c-e73aba917b76"
      },
      "outputs": [
        {
          "output_type": "stream",
          "name": "stdout",
          "text": [
            "Epoch 1/14\n",
            "114/114 [==============================] - 93s 799ms/step - loss: 2.5280 - accuracy: 0.1906\n",
            "Epoch 2/14\n",
            "114/114 [==============================] - 72s 632ms/step - loss: 1.5795 - accuracy: 0.4927\n",
            "Epoch 3/14\n",
            "114/114 [==============================] - 73s 645ms/step - loss: 1.0565 - accuracy: 0.6711\n",
            "Epoch 4/14\n",
            "114/114 [==============================] - 71s 623ms/step - loss: 0.7279 - accuracy: 0.7831\n",
            "Epoch 5/14\n",
            "114/114 [==============================] - 72s 634ms/step - loss: 0.5631 - accuracy: 0.8432\n",
            "Epoch 6/14\n",
            "114/114 [==============================] - 71s 619ms/step - loss: 0.6592 - accuracy: 0.8147\n",
            "Epoch 7/14\n",
            "114/114 [==============================] - 71s 623ms/step - loss: 0.3911 - accuracy: 0.8945\n",
            "Epoch 8/14\n",
            "114/114 [==============================] - 72s 630ms/step - loss: 0.3458 - accuracy: 0.9068\n",
            "Epoch 9/14\n",
            "114/114 [==============================] - 70s 616ms/step - loss: 0.2590 - accuracy: 0.9371\n",
            "Epoch 10/14\n",
            "114/114 [==============================] - 74s 639ms/step - loss: 0.1894 - accuracy: 0.9547\n",
            "Epoch 11/14\n",
            "114/114 [==============================] - 71s 623ms/step - loss: 0.1424 - accuracy: 0.9666\n",
            "Epoch 12/14\n",
            "114/114 [==============================] - 72s 630ms/step - loss: 0.1144 - accuracy: 0.9748\n",
            "Epoch 13/14\n",
            "114/114 [==============================] - 73s 642ms/step - loss: 0.1092 - accuracy: 0.9755\n",
            "Epoch 14/14\n",
            "114/114 [==============================] - 71s 623ms/step - loss: 0.1522 - accuracy: 0.9630\n",
            "1027.5913286209106\n"
          ]
        }
      ],
      "source": [
        "start_time = time.time()\n",
        "history = model.fit(X_train, y_train, epochs=14, batch_size=100)\n",
        "print(time.time() - start_time)\n",
        "\n",
        "classifier = model"
      ]
    },
    {
      "cell_type": "markdown",
      "metadata": {
        "id": "Xq38SOsDN6Lo"
      },
      "source": [
        "#Testset pricdiction"
      ]
    },
    {
      "cell_type": "markdown",
      "metadata": {
        "id": "45x3kSoFZsp2"
      },
      "source": [
        "Now we can use the created model to predict labels for the test dataset:"
      ]
    },
    {
      "cell_type": "code",
      "execution_count": null,
      "metadata": {
        "id": "A0u_IkJ5N79a",
        "colab": {
          "base_uri": "https://localhost:8080/"
        },
        "outputId": "710b181f-9076-4c3b-d7ea-6e94c81eab9e"
      },
      "outputs": [
        {
          "output_type": "stream",
          "name": "stdout",
          "text": [
            "89/89 [==============================] - 6s 59ms/step\n",
            "10.683140754699707\n"
          ]
        }
      ],
      "source": [
        "start_time = time.time()\n",
        "y_pred = classifier.predict(X_test)\n",
        "duration = time.time() - start_time\n",
        "print(duration)"
      ]
    },
    {
      "cell_type": "code",
      "source": [
        "duration / len(y_test)"
      ],
      "metadata": {
        "id": "agGRfg6BehWm",
        "colab": {
          "base_uri": "https://localhost:8080/"
        },
        "outputId": "4284b5a7-185e-4b76-86cd-4f843358acdd"
      },
      "execution_count": null,
      "outputs": [
        {
          "output_type": "execute_result",
          "data": {
            "text/plain": [
              "0.003755058261757366"
            ]
          },
          "metadata": {},
          "execution_count": 37
        }
      ]
    },
    {
      "cell_type": "markdown",
      "metadata": {
        "id": "dhnD7IRXohtR"
      },
      "source": [
        "## Decoding the Lables"
      ]
    },
    {
      "cell_type": "markdown",
      "metadata": {
        "id": "SB_jXJLBZvvO"
      },
      "source": [
        "Since we don't need the labels to be decoded anymore & for the sake of convenient comparison of predicted and actual results, we have created a function for decoding the encoded labels:"
      ]
    },
    {
      "cell_type": "code",
      "execution_count": null,
      "metadata": {
        "id": "PZGVCBokMOIj"
      },
      "outputs": [],
      "source": [
        "def decode_one_hot(data):\n",
        "  ns=[]\n",
        "  for d in data:\n",
        "    max = None\n",
        "    for i, w in enumerate(d):\n",
        "      if(max == None or max < w):\n",
        "        max = w\n",
        "        n = i\n",
        "    ns.append(n)\n",
        "\n",
        "  return ns"
      ]
    },
    {
      "cell_type": "markdown",
      "metadata": {
        "id": "xJq1xHRZouK9"
      },
      "source": [
        "Now we can use the created function to decode the labels:"
      ]
    },
    {
      "cell_type": "code",
      "execution_count": null,
      "metadata": {
        "id": "NV1qmvZnNBqw"
      },
      "outputs": [],
      "source": [
        "if(isinstance(y_pred[0], str)):\n",
        "  if(isinstance(y_pred[0], str)):\n",
        "    strs = [y.replace('[', '').replace(']','').split(' ') for y in y_pred]\n",
        "    decoded_y_pred = []\n",
        "    for ys in strs:\n",
        "      for i, y in enumerate(ys):\n",
        "        if(y == '1.'):\n",
        "          decoded_y_pred.append(i)\n",
        "else:\n",
        "  decoded_y_pred = decode_one_hot(y_pred)\n",
        "  \n",
        "decoded_y_test = decode_one_hot(y_test)"
      ]
    },
    {
      "cell_type": "markdown",
      "metadata": {
        "id": "59nFfBfgN_rS"
      },
      "source": [
        "## Measuring the accuracy"
      ]
    },
    {
      "cell_type": "markdown",
      "source": [
        "To see the prediction & acttual results, side by side:"
      ],
      "metadata": {
        "id": "3VMKIN4EE1q7"
      }
    },
    {
      "cell_type": "code",
      "execution_count": null,
      "metadata": {
        "id": "BqPvIyJINy1X"
      },
      "outputs": [],
      "source": [
        "# print(np.concatenate((y_pred.reshape(len(y_pred),1), y_test.reshape(len(y_test),1)),1))\n",
        "for i in range(0, len(y_pred)):\n",
        "  print(str(decoded_y_pred[i]) + '\\t' + str(decoded_y_test[i]))"
      ]
    },
    {
      "cell_type": "markdown",
      "source": [
        "Using the following block of codes, we can calculate the overall accuracy of the models:"
      ],
      "metadata": {
        "id": "C1gZIsGhFG1a"
      }
    },
    {
      "cell_type": "code",
      "execution_count": null,
      "metadata": {
        "id": "3e51KMeqtWID"
      },
      "outputs": [],
      "source": [
        "from sklearn.metrics import accuracy_score\n",
        "\n",
        "accuracy_score(decoded_y_test, decoded_y_pred)"
      ]
    },
    {
      "cell_type": "markdown",
      "metadata": {
        "id": "ZM5h4Cy94w65"
      },
      "source": [
        "## Counting True/False Positive/Negetives"
      ]
    },
    {
      "cell_type": "code",
      "execution_count": null,
      "metadata": {
        "id": "zYh7f8Qu47iq"
      },
      "outputs": [],
      "source": [
        "tps = np.zeros(label_count)\n",
        "tns = np.zeros(label_count)\n",
        "fps = np.zeros(label_count)\n",
        "fns = np.zeros(label_count)\n",
        "\n",
        "for i in range(0, len(y_test)):\n",
        "  n1 = decoded_y_test[i]\n",
        "  n2 = decoded_y_pred[i]\n",
        "\n",
        "  if(n1 == n2):\n",
        "    tps[n1] += 1\n",
        "    for j in range(0, label_count):\n",
        "      if(j != n1):\n",
        "        tns[j] += 1\n",
        "  else:\n",
        "    fps[n1] += 1 \n",
        "    fns[n2] += 1\n",
        "    for j in range(0, label_count):\n",
        "      if(not(j in (n1, n2))):\n",
        "        tns[j] += 1\n",
        "\n"
      ]
    },
    {
      "cell_type": "markdown",
      "metadata": {
        "id": "m8HSuR7XhVNk"
      },
      "source": [
        "## Displaying the the tp/tn-fp/fn in the selected google sheet file"
      ]
    },
    {
      "cell_type": "markdown",
      "metadata": {
        "id": "j1YDC14Pi_rZ"
      },
      "source": [
        "first we set up the functions:"
      ]
    },
    {
      "cell_type": "code",
      "execution_count": null,
      "metadata": {
        "id": "4g3vc4bfr7Vh"
      },
      "outputs": [],
      "source": [
        "def sum(list):\n",
        "  t = 0\n",
        "  for n in list:\n",
        "    t += n\n",
        "\n",
        "  return t"
      ]
    },
    {
      "cell_type": "code",
      "execution_count": null,
      "metadata": {
        "id": "jvp64cJg4Bk1"
      },
      "outputs": [],
      "source": [
        "def fill_numbers(numbers, cells: list, worksheet):\n",
        "  for i, c in enumerate(cells):\n",
        "    c.value = numbers[i]\n",
        "\n",
        "  worksheet.update_cells(cells)"
      ]
    },
    {
      "cell_type": "code",
      "execution_count": null,
      "metadata": {
        "id": "938HJ_mx1aaX"
      },
      "outputs": [],
      "source": [
        "def get_f_score(b, p, r):\n",
        "  return (1 + b**2) * p * r/ (b**2 * p + r)"
      ]
    },
    {
      "cell_type": "markdown",
      "metadata": {
        "id": "0jT-ZNecjKXC"
      },
      "source": [
        "Now we select the google sheet file to store the results into:"
      ]
    },
    {
      "cell_type": "code",
      "execution_count": null,
      "metadata": {
        "id": "Ov9-JvW7jUTF"
      },
      "outputs": [],
      "source": [
        "from google.colab import auth\n",
        "auth.authenticate_user()\n",
        "\n",
        "import gspread\n",
        "from google.auth import default\n",
        "creds, _ = default()\n",
        "\n",
        "gc = gspread.authorize(creds)\n",
        "\n",
        "# worksheet = gc.create('model tests')\n",
        "worksheet = gc.open('model results').get_worksheet(7)"
      ]
    },
    {
      "cell_type": "code",
      "execution_count": null,
      "metadata": {
        "id": "b0iEE4jb2vbY"
      },
      "outputs": [],
      "source": [
        "if(is_fa):\n",
        "  cells = fill_numbers(tps, worksheet.range('C2:C18'), worksheet)\n",
        "  cells = fill_numbers(tns, worksheet.range('D2:D18'), worksheet)\n",
        "  cells = fill_numbers(fps, worksheet.range('E2:E18'), worksheet)\n",
        "  cells = fill_numbers(fns, worksheet.range('F2:F18'), worksheet)\n",
        "else:\n",
        "  cells = fill_numbers(tps, worksheet.range('C48:C64'), worksheet)\n",
        "  cells = fill_numbers(tns, worksheet.range('D48:D64'), worksheet)\n",
        "  cells = fill_numbers(fps, worksheet.range('E48:E64'), worksheet)\n",
        "  cells = fill_numbers(fns, worksheet.range('F48:F64'), worksheet)"
      ]
    },
    {
      "cell_type": "markdown",
      "metadata": {
        "id": "by1R6SnlD0da"
      },
      "source": [
        "## Calculating the Criteria"
      ]
    },
    {
      "cell_type": "code",
      "execution_count": null,
      "metadata": {
        "id": "Q70ewJEND-Jj"
      },
      "outputs": [],
      "source": [
        "tp = sum(tps)\n",
        "tn = sum(tns)\n",
        "fp = sum(fps)\n",
        "fn = sum(fns)\n",
        "\n",
        "precision = tp / (tp + fp)\n",
        "accuracy = (tp + tn) / (tp + tn + fp + fn)\n",
        "e_rate = 1 - accuracy\n",
        "recall = tp / (tp + fn)\n",
        "specificity = tn / (fp + tn)\n",
        "f1 = get_f_score(1, precision, recall)\n",
        "f2 = get_f_score(2, precision, recall)\n",
        "f05 = get_f_score(0.5, precision, recall)"
      ]
    },
    {
      "cell_type": "code",
      "source": [
        "print(precision)"
      ],
      "metadata": {
        "id": "vtghs85WbnvJ",
        "colab": {
          "base_uri": "https://localhost:8080/"
        },
        "outputId": "b7196d34-300f-47f6-bea9-3626b4b26661"
      },
      "execution_count": null,
      "outputs": [
        {
          "output_type": "stream",
          "name": "stdout",
          "text": [
            "0.8\n"
          ]
        }
      ]
    },
    {
      "cell_type": "markdown",
      "metadata": {
        "id": "FVyeH7J_irYx"
      },
      "source": [
        "## Displaying the Criteria in the google sheet file"
      ]
    },
    {
      "cell_type": "code",
      "execution_count": null,
      "metadata": {
        "id": "z46gOK52iUYb"
      },
      "outputs": [],
      "source": [
        "if(is_fa):\n",
        "  cells = worksheet.range('G19:N19')\n",
        "else:\n",
        "  cells = worksheet.range('G65:N65')\n",
        "\n",
        "fill_numbers([precision, recall, f1, specificity, accuracy, e_rate, f2, f05], cells, worksheet)"
      ]
    },
    {
      "cell_type": "markdown",
      "metadata": {
        "id": "RgJLbQ-AtbTQ"
      },
      "source": [
        "## Displaying the Confusion Matrix in the google sheet file"
      ]
    },
    {
      "cell_type": "code",
      "execution_count": null,
      "metadata": {
        "colab": {
          "base_uri": "https://localhost:8080/"
        },
        "id": "MdW1wvfBOCei",
        "outputId": "5eb644e5-c951-4532-e936-b26da42c693e"
      },
      "outputs": [
        {
          "output_type": "stream",
          "name": "stdout",
          "text": [
            "[[136   6  12   1   0   1   0  11   4   0   1   0   0   2   0   3   0]\n",
            " [  9 176  14   0   0   5   2   2   7   1   1   0   1   2   1   3   0]\n",
            " [  8  12 127   0   0   5   2   1   2   0   0   0   0   0   0   1   0]\n",
            " [  0   0   0  22   1   0   0   0   0   1   0   1   1   1   0   1   0]\n",
            " [  0   0   0   1  27   3   6   1   0   1   0   0   0   1   4   3  11]\n",
            " [  4  12   8   0   5 149   1   3   0   2   2   0   1   0   2   0   1]\n",
            " [  0   6  12   1   8   6 289   0   5   0   0   0   2   2  14   3  12]\n",
            " [ 11   6   4   0   1   6   1  89   2   0   4   1   0   1   0   0   0]\n",
            " [  3   1   7   0   1   4   1   4 219   1   5   0   9   2   4   1   0]\n",
            " [  0   0   0   0   0   0   0   0   2  11   4   0   1   0   0   0   0]\n",
            " [  3   0   1   0   1   3   0   3   5   2  58   0   1   1   0   0   0]\n",
            " [  0   0   0   1   0   0   1   0   0   1   0 151   1  13   6   6   0]\n",
            " [  1   0   0   1   4   1   0   0   5   5   2   6 162   7  13   7   2]\n",
            " [  4   1   1   2   0   0   0   0   1   0   2   4   3 219   5   1   2]\n",
            " [  0   0   0   0   2   0   7   0   6   2   1   2   8   7 267  15   1]\n",
            " [  1   2   0   1   1   0   0   1   0   1   0   2   5   1   4 105   0]\n",
            " [  2   0   1   0   2   1   1   0   1   0   0   0   0   0   4   2  69]]\n"
          ]
        }
      ],
      "source": [
        "from sklearn.metrics import confusion_matrix\n",
        "\n",
        "cm = confusion_matrix(decoded_y_test, decoded_y_pred)\n",
        "\n",
        "if(is_fa):\n",
        "  cells = worksheet.range('B25:R41')\n",
        "else:\n",
        "  cells = worksheet.range('B71:R87')\n",
        "\n",
        "fill_numbers([int(item) for item in np.concatenate(cm)], cells, worksheet)\n",
        "\n",
        "print(cm)"
      ]
    },
    {
      "cell_type": "markdown",
      "metadata": {
        "id": "KU2PBYQ0HJCU"
      },
      "source": [
        "# ~Purification"
      ]
    },
    {
      "cell_type": "code",
      "execution_count": null,
      "metadata": {
        "colab": {
          "base_uri": "https://localhost:8080/",
          "height": 424
        },
        "id": "NVdEsLCO_zuj",
        "outputId": "d287aaea-d80e-4049-baf8-3ab703e9f4c5"
      },
      "outputs": [
        {
          "data": {
            "text/html": [
              "\n",
              "  <div id=\"df-234d1558-c1db-43b2-a6c9-9ef54b229711\">\n",
              "    <div class=\"colab-df-container\">\n",
              "      <div>\n",
              "<style scoped>\n",
              "    .dataframe tbody tr th:only-of-type {\n",
              "        vertical-align: middle;\n",
              "    }\n",
              "\n",
              "    .dataframe tbody tr th {\n",
              "        vertical-align: top;\n",
              "    }\n",
              "\n",
              "    .dataframe thead th {\n",
              "        text-align: right;\n",
              "    }\n",
              "</style>\n",
              "<table border=\"1\" class=\"dataframe\">\n",
              "  <thead>\n",
              "    <tr style=\"text-align: right;\">\n",
              "      <th></th>\n",
              "      <th>Id</th>\n",
              "      <th>Sentence</th>\n",
              "      <th>Label</th>\n",
              "    </tr>\n",
              "  </thead>\n",
              "  <tbody>\n",
              "    <tr>\n",
              "      <th>0</th>\n",
              "      <td>1</td>\n",
              "      <td>شیمی فارس افغانستان فارس تاجیکستان کیمیا فرانس...</td>\n",
              "      <td>0</td>\n",
              "    </tr>\n",
              "    <tr>\n",
              "      <th>1</th>\n",
              "      <td>2</td>\n",
              "      <td>نمایی علم شیمی رشته فیزیک زیست‌شناس قرار گرفت#...</td>\n",
              "      <td>0</td>\n",
              "    </tr>\n",
              "    <tr>\n",
              "      <th>2</th>\n",
              "      <td>3</td>\n",
              "      <td>علم شیمی موضوعات چگونگی برهم‌کنش اتم مولکول طر...</td>\n",
              "      <td>0</td>\n",
              "    </tr>\n",
              "    <tr>\n",
              "      <th>3</th>\n",
              "      <td>4</td>\n",
              "      <td>واژه شیمی کیمیا زبان مصر باستان کیمیا واژه خام...</td>\n",
              "      <td>0</td>\n",
              "    </tr>\n",
              "    <tr>\n",
              "      <th>4</th>\n",
              "      <td>5</td>\n",
              "      <td>زیست‌شناس کالبدشناس اخترزیست‌شناسی بیوشیمی مهن...</td>\n",
              "      <td>0</td>\n",
              "    </tr>\n",
              "    <tr>\n",
              "      <th>...</th>\n",
              "      <td>...</td>\n",
              "      <td>...</td>\n",
              "      <td>...</td>\n",
              "    </tr>\n",
              "    <tr>\n",
              "      <th>15852</th>\n",
              "      <td>15853</td>\n",
              "      <td>بینش اجمال عملکرد تاریخ دوره زمان بود#باش راهک...</td>\n",
              "      <td>16</td>\n",
              "    </tr>\n",
              "    <tr>\n",
              "      <th>15853</th>\n",
              "      <td>15854</td>\n",
              "      <td>مدیریت سیستم عمدتا پا دسترس پا کارکرد زیرساخت ...</td>\n",
              "      <td>16</td>\n",
              "    </tr>\n",
              "    <tr>\n",
              "      <th>15854</th>\n",
              "      <td>15855</td>\n",
              "      <td>راهکار پردازش رویداد پیچیده هوش عملیاتی رابطه ...</td>\n",
              "      <td>16</td>\n",
              "    </tr>\n",
              "    <tr>\n",
              "      <th>15855</th>\n",
              "      <td>15856</td>\n",
              "      <td>نرم‌افزار نظارت فعالیت تجار پا فرایند کسب‌وکار...</td>\n",
              "      <td>16</td>\n",
              "    </tr>\n",
              "    <tr>\n",
              "      <th>15856</th>\n",
              "      <td>15857</td>\n",
              "      <td>مجموعه مدیریت فرایند کسب کار محیط اجرایی #است ...</td>\n",
              "      <td>16</td>\n",
              "    </tr>\n",
              "  </tbody>\n",
              "</table>\n",
              "<p>15857 rows × 3 columns</p>\n",
              "</div>\n",
              "      <button class=\"colab-df-convert\" onclick=\"convertToInteractive('df-234d1558-c1db-43b2-a6c9-9ef54b229711')\"\n",
              "              title=\"Convert this dataframe to an interactive table.\"\n",
              "              style=\"display:none;\">\n",
              "        \n",
              "  <svg xmlns=\"http://www.w3.org/2000/svg\" height=\"24px\"viewBox=\"0 0 24 24\"\n",
              "       width=\"24px\">\n",
              "    <path d=\"M0 0h24v24H0V0z\" fill=\"none\"/>\n",
              "    <path d=\"M18.56 5.44l.94 2.06.94-2.06 2.06-.94-2.06-.94-.94-2.06-.94 2.06-2.06.94zm-11 1L8.5 8.5l.94-2.06 2.06-.94-2.06-.94L8.5 2.5l-.94 2.06-2.06.94zm10 10l.94 2.06.94-2.06 2.06-.94-2.06-.94-.94-2.06-.94 2.06-2.06.94z\"/><path d=\"M17.41 7.96l-1.37-1.37c-.4-.4-.92-.59-1.43-.59-.52 0-1.04.2-1.43.59L10.3 9.45l-7.72 7.72c-.78.78-.78 2.05 0 2.83L4 21.41c.39.39.9.59 1.41.59.51 0 1.02-.2 1.41-.59l7.78-7.78 2.81-2.81c.8-.78.8-2.07 0-2.86zM5.41 20L4 18.59l7.72-7.72 1.47 1.35L5.41 20z\"/>\n",
              "  </svg>\n",
              "      </button>\n",
              "      \n",
              "  <style>\n",
              "    .colab-df-container {\n",
              "      display:flex;\n",
              "      flex-wrap:wrap;\n",
              "      gap: 12px;\n",
              "    }\n",
              "\n",
              "    .colab-df-convert {\n",
              "      background-color: #E8F0FE;\n",
              "      border: none;\n",
              "      border-radius: 50%;\n",
              "      cursor: pointer;\n",
              "      display: none;\n",
              "      fill: #1967D2;\n",
              "      height: 32px;\n",
              "      padding: 0 0 0 0;\n",
              "      width: 32px;\n",
              "    }\n",
              "\n",
              "    .colab-df-convert:hover {\n",
              "      background-color: #E2EBFA;\n",
              "      box-shadow: 0px 1px 2px rgba(60, 64, 67, 0.3), 0px 1px 3px 1px rgba(60, 64, 67, 0.15);\n",
              "      fill: #174EA6;\n",
              "    }\n",
              "\n",
              "    [theme=dark] .colab-df-convert {\n",
              "      background-color: #3B4455;\n",
              "      fill: #D2E3FC;\n",
              "    }\n",
              "\n",
              "    [theme=dark] .colab-df-convert:hover {\n",
              "      background-color: #434B5C;\n",
              "      box-shadow: 0px 1px 3px 1px rgba(0, 0, 0, 0.15);\n",
              "      filter: drop-shadow(0px 1px 2px rgba(0, 0, 0, 0.3));\n",
              "      fill: #FFFFFF;\n",
              "    }\n",
              "  </style>\n",
              "\n",
              "      <script>\n",
              "        const buttonEl =\n",
              "          document.querySelector('#df-234d1558-c1db-43b2-a6c9-9ef54b229711 button.colab-df-convert');\n",
              "        buttonEl.style.display =\n",
              "          google.colab.kernel.accessAllowed ? 'block' : 'none';\n",
              "\n",
              "        async function convertToInteractive(key) {\n",
              "          const element = document.querySelector('#df-234d1558-c1db-43b2-a6c9-9ef54b229711');\n",
              "          const dataTable =\n",
              "            await google.colab.kernel.invokeFunction('convertToInteractive',\n",
              "                                                     [key], {});\n",
              "          if (!dataTable) return;\n",
              "\n",
              "          const docLinkHtml = 'Like what you see? Visit the ' +\n",
              "            '<a target=\"_blank\" href=https://colab.research.google.com/notebooks/data_table.ipynb>data table notebook</a>'\n",
              "            + ' to learn more about interactive tables.';\n",
              "          element.innerHTML = '';\n",
              "          dataTable['output_type'] = 'display_data';\n",
              "          await google.colab.output.renderOutput(dataTable, element);\n",
              "          const docLink = document.createElement('div');\n",
              "          docLink.innerHTML = docLinkHtml;\n",
              "          element.appendChild(docLink);\n",
              "        }\n",
              "      </script>\n",
              "    </div>\n",
              "  </div>\n",
              "  "
            ],
            "text/plain": [
              "          Id                                           Sentence  Label\n",
              "0          1  شیمی فارس افغانستان فارس تاجیکستان کیمیا فرانس...      0\n",
              "1          2  نمایی علم شیمی رشته فیزیک زیست‌شناس قرار گرفت#...      0\n",
              "2          3  علم شیمی موضوعات چگونگی برهم‌کنش اتم مولکول طر...      0\n",
              "3          4  واژه شیمی کیمیا زبان مصر باستان کیمیا واژه خام...      0\n",
              "4          5  زیست‌شناس کالبدشناس اخترزیست‌شناسی بیوشیمی مهن...      0\n",
              "...      ...                                                ...    ...\n",
              "15852  15853  بینش اجمال عملکرد تاریخ دوره زمان بود#باش راهک...     16\n",
              "15853  15854  مدیریت سیستم عمدتا پا دسترس پا کارکرد زیرساخت ...     16\n",
              "15854  15855  راهکار پردازش رویداد پیچیده هوش عملیاتی رابطه ...     16\n",
              "15855  15856  نرم‌افزار نظارت فعالیت تجار پا فرایند کسب‌وکار...     16\n",
              "15856  15857  مجموعه مدیریت فرایند کسب کار محیط اجرایی #است ...     16\n",
              "\n",
              "[15857 rows x 3 columns]"
            ]
          },
          "execution_count": 23,
          "metadata": {},
          "output_type": "execute_result"
        }
      ],
      "source": [
        "# ids_test = []\n",
        "# for i in range(0, len(corpus)):\n",
        "#   ids_test.append(i + 1)\n",
        "\n",
        "dataset = pd.DataFrame({'Id': dataset['Id'],\n",
        "                             'Sentence': corpus, \n",
        "                             'Label': dataset['Label'].tolist(),})\n",
        "\n",
        "dataset"
      ]
    },
    {
      "cell_type": "code",
      "execution_count": null,
      "metadata": {
        "id": "yrRw4bv1Jb0n"
      },
      "outputs": [],
      "source": [
        "import pandas as pd\n",
        "\n",
        "from google.colab import auth\n",
        "auth.authenticate_user()\n",
        "\n",
        "import gspread\n",
        "from google.auth import default\n",
        "creds, _ = default()\n",
        "\n",
        "gc = gspread.authorize(creds)\n",
        "\n",
        "worksheet = gc.open('point3').sheet1\n",
        "\n",
        "# get_all_values gives a list of rows.\n",
        "rows = worksheet.get_all_values()\n",
        "\n",
        "dataset = pd.DataFrame(rows[1:],columns=rows[0])\n",
        "\n",
        "dataset['Sentence'] = dataset['Sentence'].astype(str)\n",
        "dataset['Label'] = pd.to_numeric(dataset['Label'])\n",
        "dataset['Id'] = pd.to_numeric(dataset['Id'])"
      ]
    },
    {
      "cell_type": "code",
      "execution_count": null,
      "metadata": {
        "id": "_yheyEbpDnNI"
      },
      "outputs": [],
      "source": [
        "dataset.to_csv('point4.csv')\n",
        "!cp point4.csv \"drive/My Drive\""
      ]
    },
    {
      "cell_type": "code",
      "execution_count": null,
      "metadata": {
        "colab": {
          "base_uri": "https://localhost:8080/"
        },
        "id": "zoZLbz8xERgy",
        "outputId": "cd09bbb0-aeae-49a2-ad18-7db18cc25119"
      },
      "outputs": [
        {
          "data": {
            "text/plain": [
              "array([[0, 0, 0, ..., 0, 0, 0],\n",
              "       [0, 0, 0, ..., 0, 0, 0],\n",
              "       [0, 0, 0, ..., 0, 0, 0],\n",
              "       ...,\n",
              "       [0, 0, 0, ..., 0, 0, 0],\n",
              "       [0, 0, 0, ..., 0, 0, 0],\n",
              "       [0, 0, 0, ..., 0, 0, 0]])"
            ]
          },
          "execution_count": 9,
          "metadata": {},
          "output_type": "execute_result"
        }
      ],
      "source": [
        "import tensorflow as tf\n",
        "import numpy as np\n",
        "from sklearn.model_selection import train_test_split\n",
        "from keras.layers import Dense\n",
        "from sklearn.metrics import confusion_matrix, accuracy_score\n",
        "from sklearn.feature_extraction.text import CountVectorizer\n",
        "\n",
        "corpus = dataset['Sentence'].tolist()\n",
        "y = np.zeros((len(dataset), 17))\n",
        "y[np.arange(len(dataset)), dataset['Label'].values] = 1 \n",
        "\n",
        "blah0, ids_test, blah1, blah2 = train_test_split(dataset['Id'], y, test_size = 0.20, random_state = 42)\n",
        "\n",
        "cv = CountVectorizer(max_features = 10000)\n",
        "X = cv.fit_transform(corpus).toarray()\n",
        "\n",
        "X_train, X_test, y_train, y_test = train_test_split(X, y, test_size = 0.20, random_state = 42)\n",
        "\n",
        "X_train"
      ]
    },
    {
      "cell_type": "code",
      "execution_count": null,
      "metadata": {
        "colab": {
          "base_uri": "https://localhost:8080/"
        },
        "id": "zErT-tTkFxy2",
        "outputId": "a79ff6aa-690e-4bfc-e14f-c27a35e85ed4"
      },
      "outputs": [
        {
          "name": "stdout",
          "output_type": "stream",
          "text": [
            "Epoch 1/15\n",
            "18/18 [==============================] - 4s 152ms/step - loss: 2.3303 - categorical_accuracy: 0.4906 - val_loss: 1.6974 - val_categorical_accuracy: 0.6890\n",
            "Epoch 2/15\n",
            "18/18 [==============================] - 3s 142ms/step - loss: 1.2516 - categorical_accuracy: 0.8129 - val_loss: 1.0075 - val_categorical_accuracy: 0.8296\n",
            "Epoch 3/15\n",
            "18/18 [==============================] - 3s 140ms/step - loss: 0.7085 - categorical_accuracy: 0.9101 - val_loss: 0.7013 - val_categorical_accuracy: 0.8775\n",
            "Epoch 4/15\n",
            "18/18 [==============================] - 3s 140ms/step - loss: 0.4464 - categorical_accuracy: 0.9494 - val_loss: 0.5494 - val_categorical_accuracy: 0.9020\n",
            "Epoch 5/15\n",
            "18/18 [==============================] - 3s 141ms/step - loss: 0.3034 - categorical_accuracy: 0.9693 - val_loss: 0.4661 - val_categorical_accuracy: 0.9116\n",
            "Epoch 6/15\n",
            "18/18 [==============================] - 3s 142ms/step - loss: 0.2174 - categorical_accuracy: 0.9810 - val_loss: 0.4159 - val_categorical_accuracy: 0.9191\n",
            "Epoch 7/15\n",
            "18/18 [==============================] - 3s 143ms/step - loss: 0.1614 - categorical_accuracy: 0.9892 - val_loss: 0.3820 - val_categorical_accuracy: 0.9255\n",
            "Epoch 8/15\n",
            "18/18 [==============================] - 3s 140ms/step - loss: 0.1232 - categorical_accuracy: 0.9927 - val_loss: 0.3599 - val_categorical_accuracy: 0.9265\n",
            "Epoch 9/15\n",
            "18/18 [==============================] - 3s 141ms/step - loss: 0.0962 - categorical_accuracy: 0.9953 - val_loss: 0.3428 - val_categorical_accuracy: 0.9276\n",
            "Epoch 10/15\n",
            "18/18 [==============================] - 3s 143ms/step - loss: 0.0766 - categorical_accuracy: 0.9973 - val_loss: 0.3306 - val_categorical_accuracy: 0.9297\n",
            "Epoch 11/15\n",
            "18/18 [==============================] - 3s 143ms/step - loss: 0.0620 - categorical_accuracy: 0.9982 - val_loss: 0.3212 - val_categorical_accuracy: 0.9318\n",
            "Epoch 12/15\n",
            "18/18 [==============================] - 3s 141ms/step - loss: 0.0510 - categorical_accuracy: 0.9988 - val_loss: 0.3140 - val_categorical_accuracy: 0.9318\n",
            "Epoch 13/15\n",
            "18/18 [==============================] - 2s 139ms/step - loss: 0.0425 - categorical_accuracy: 0.9992 - val_loss: 0.3079 - val_categorical_accuracy: 0.9318\n",
            "Epoch 14/15\n",
            "18/18 [==============================] - 3s 141ms/step - loss: 0.0359 - categorical_accuracy: 0.9996 - val_loss: 0.3033 - val_categorical_accuracy: 0.9308\n",
            "Epoch 15/15\n",
            "18/18 [==============================] - 4s 220ms/step - loss: 0.0306 - categorical_accuracy: 0.9998 - val_loss: 0.3003 - val_categorical_accuracy: 0.9318\n"
          ]
        }
      ],
      "source": [
        "ann = tf.keras.models.Sequential()\n",
        "act = tf.keras.activations\n",
        "ann.add(Dense(units=100, activation=act.relu))\n",
        "# ann.add(Dense(units=100, activation=act.relu))\n",
        "ann.add(Dense(units=17, activation=act.softmax))\n",
        "ann.compile(optimizer = 'adam', loss = 'categorical_crossentropy', metrics = ['categorical_accuracy'])\n",
        "ann.fit(X_train, y_train, batch_size = 1000, epochs = 15, validation_split=0.05)\n",
        "\n",
        "classifier = ann"
      ]
    },
    {
      "cell_type": "code",
      "execution_count": null,
      "metadata": {
        "colab": {
          "base_uri": "https://localhost:8080/"
        },
        "id": "_GwLchHpFzp4",
        "outputId": "1acd7a62-8276-41a4-bac7-0652230673a4"
      },
      "outputs": [
        {
          "name": "stdout",
          "output_type": "stream",
          "text": [
            "147/147 [==============================] - 1s 6ms/step\n"
          ]
        },
        {
          "data": {
            "text/plain": [
              "0.9296825058597912"
            ]
          },
          "execution_count": 11,
          "metadata": {},
          "output_type": "execute_result"
        }
      ],
      "source": [
        "y_pred = classifier.predict(X_test)\n",
        "\n",
        "decoded_y_pred = decode_one_hot(y_pred)\n",
        "decoded_y_test = decode_one_hot(y_test)\n",
        "accuracy_score(decoded_y_test, decoded_y_pred)"
      ]
    },
    {
      "cell_type": "code",
      "execution_count": null,
      "metadata": {
        "colab": {
          "base_uri": "https://localhost:8080/"
        },
        "id": "XfvqFWivhg8l",
        "outputId": "e489a28a-5920-4f22-ae59-aa7c452cbc89"
      },
      "outputs": [
        {
          "data": {
            "text/plain": [
              "23465"
            ]
          },
          "execution_count": 12,
          "metadata": {},
          "output_type": "execute_result"
        }
      ],
      "source": [
        "len(dataset)"
      ]
    },
    {
      "cell_type": "code",
      "execution_count": null,
      "metadata": {
        "id": "NcNTR2S4GIY1"
      },
      "outputs": [],
      "source": [
        "for i, pred in enumerate(decoded_y_pred):\n",
        " if(pred != decoded_y_test[i]):\n",
        "   id = ids_test.iloc[i]\n",
        "   index = dataset[(dataset['Id'] == id)].index\n",
        "  #  print(str(dataset.iloc[index]) + '\\t' + str(decoded_y_pred[i]) + '\\t' + str(decoded_y_test[i]) + '\\t' + str(i) + '\\t' + str(index))\n",
        "   dataset.drop(index, inplace= True)"
      ]
    },
    {
      "cell_type": "markdown",
      "metadata": {
        "id": "VnBIdGKTZvK2"
      },
      "source": [
        "## Relating the origin set to the pure set"
      ]
    },
    {
      "cell_type": "code",
      "execution_count": null,
      "metadata": {
        "id": "g2P5noFDhEvH"
      },
      "outputs": [],
      "source": [
        "import pandas as pd\n",
        "\n",
        "from google.colab import auth\n",
        "auth.authenticate_user()\n",
        "\n",
        "import gspread\n",
        "from google.auth import default\n",
        "creds, _ = default()\n",
        "\n",
        "import tensorflow as tf\n",
        "import numpy as np\n",
        "from sklearn.model_selection import train_test_split\n",
        "from keras.layers import Dense\n",
        "from sklearn.metrics import confusion_matrix, accuracy_score\n",
        "from sklearn.feature_extraction.text import CountVectorizer"
      ]
    },
    {
      "cell_type": "code",
      "execution_count": null,
      "metadata": {
        "id": "xtebD8LbZuE7"
      },
      "outputs": [],
      "source": [
        "gc = gspread.authorize(creds)\n",
        "\n",
        "worksheet = gc.open('FinalEnGood').sheet1\n",
        "\n",
        "# get_all_values gives a list of rows.\n",
        "rows = worksheet.get_all_values()\n",
        "\n",
        "dataset = pd.DataFrame(rows[1:],columns=rows[0])\n",
        "\n",
        "dataset['Sentence'] = dataset['Sentence'].astype(str)\n",
        "dataset['Label'] = pd.to_numeric(dataset['Label'])\n",
        "dataset['Id'] = pd.to_numeric(dataset['Id'])"
      ]
    },
    {
      "cell_type": "code",
      "execution_count": null,
      "metadata": {
        "id": "id7ZeyYoad35"
      },
      "outputs": [],
      "source": [
        "worksheet = gc.open('point4').sheet1\n",
        "\n",
        "# get_all_values gives a list of rows.\n",
        "rows = worksheet.get_all_values()\n",
        "\n",
        "dataset2 = pd.DataFrame(rows[1:],columns=rows[0])\n",
        "\n",
        "dataset2['Sentence'] = dataset2['Sentence'].astype(str)\n",
        "dataset2['Label'] = pd.to_numeric(dataset2['Label'])\n",
        "dataset2['Id'] = pd.to_numeric(dataset2['Id'])"
      ]
    },
    {
      "cell_type": "code",
      "execution_count": null,
      "metadata": {
        "colab": {
          "base_uri": "https://localhost:8080/",
          "height": 424
        },
        "id": "LYmCqe2ahj6w",
        "outputId": "f0ccb6d6-4715-4791-eb50-0393de3ff660"
      },
      "outputs": [
        {
          "data": {
            "text/html": [
              "\n",
              "  <div id=\"df-741c87f8-5f8f-4922-911b-a321dd5786bf\">\n",
              "    <div class=\"colab-df-container\">\n",
              "      <div>\n",
              "<style scoped>\n",
              "    .dataframe tbody tr th:only-of-type {\n",
              "        vertical-align: middle;\n",
              "    }\n",
              "\n",
              "    .dataframe tbody tr th {\n",
              "        vertical-align: top;\n",
              "    }\n",
              "\n",
              "    .dataframe thead th {\n",
              "        text-align: right;\n",
              "    }\n",
              "</style>\n",
              "<table border=\"1\" class=\"dataframe\">\n",
              "  <thead>\n",
              "    <tr style=\"text-align: right;\">\n",
              "      <th></th>\n",
              "      <th>Sentence</th>\n",
              "      <th>Label</th>\n",
              "      <th>Id</th>\n",
              "    </tr>\n",
              "  </thead>\n",
              "  <tbody>\n",
              "    <tr>\n",
              "      <th>0</th>\n",
              "      <td>chemistry scientific study property behavior m...</td>\n",
              "      <td>0</td>\n",
              "      <td>1</td>\n",
              "    </tr>\n",
              "    <tr>\n",
              "      <th>1</th>\n",
              "      <td>scope subject chemistry occupies intermediate ...</td>\n",
              "      <td>0</td>\n",
              "      <td>2</td>\n",
              "    </tr>\n",
              "    <tr>\n",
              "      <th>2</th>\n",
              "      <td>word chemistry come modification renaissance w...</td>\n",
              "      <td>0</td>\n",
              "      <td>3</td>\n",
              "    </tr>\n",
              "    <tr>\n",
              "      <th>3</th>\n",
              "      <td>modern word alchemy turn derived arabic word a...</td>\n",
              "      <td>0</td>\n",
              "      <td>4</td>\n",
              "    </tr>\n",
              "    <tr>\n",
              "      <th>4</th>\n",
              "      <td>current model atomic structure quantum mechani...</td>\n",
              "      <td>0</td>\n",
              "      <td>5</td>\n",
              "    </tr>\n",
              "    <tr>\n",
              "      <th>...</th>\n",
              "      <td>...</td>\n",
              "      <td>...</td>\n",
              "      <td>...</td>\n",
              "    </tr>\n",
              "    <tr>\n",
              "      <th>23845</th>\n",
              "      <td>oi provides continuous real time analytics dat...</td>\n",
              "      <td>16</td>\n",
              "      <td>25684</td>\n",
              "    </tr>\n",
              "    <tr>\n",
              "      <th>23846</th>\n",
              "      <td>needed glimpse historical performance specific...</td>\n",
              "      <td>16</td>\n",
              "      <td>25685</td>\n",
              "    </tr>\n",
              "    <tr>\n",
              "      <th>23847</th>\n",
              "      <td>system management mainly refers availability c...</td>\n",
              "      <td>16</td>\n",
              "      <td>25686</td>\n",
              "    </tr>\n",
              "    <tr>\n",
              "      <th>23848</th>\n",
              "      <td>strong relationship complex event processing c...</td>\n",
              "      <td>16</td>\n",
              "      <td>25687</td>\n",
              "    </tr>\n",
              "    <tr>\n",
              "      <th>23849</th>\n",
              "      <td>business activity monitoring bam software aid ...</td>\n",
              "      <td>16</td>\n",
              "      <td>25688</td>\n",
              "    </tr>\n",
              "  </tbody>\n",
              "</table>\n",
              "<p>23850 rows × 3 columns</p>\n",
              "</div>\n",
              "      <button class=\"colab-df-convert\" onclick=\"convertToInteractive('df-741c87f8-5f8f-4922-911b-a321dd5786bf')\"\n",
              "              title=\"Convert this dataframe to an interactive table.\"\n",
              "              style=\"display:none;\">\n",
              "        \n",
              "  <svg xmlns=\"http://www.w3.org/2000/svg\" height=\"24px\"viewBox=\"0 0 24 24\"\n",
              "       width=\"24px\">\n",
              "    <path d=\"M0 0h24v24H0V0z\" fill=\"none\"/>\n",
              "    <path d=\"M18.56 5.44l.94 2.06.94-2.06 2.06-.94-2.06-.94-.94-2.06-.94 2.06-2.06.94zm-11 1L8.5 8.5l.94-2.06 2.06-.94-2.06-.94L8.5 2.5l-.94 2.06-2.06.94zm10 10l.94 2.06.94-2.06 2.06-.94-2.06-.94-.94-2.06-.94 2.06-2.06.94z\"/><path d=\"M17.41 7.96l-1.37-1.37c-.4-.4-.92-.59-1.43-.59-.52 0-1.04.2-1.43.59L10.3 9.45l-7.72 7.72c-.78.78-.78 2.05 0 2.83L4 21.41c.39.39.9.59 1.41.59.51 0 1.02-.2 1.41-.59l7.78-7.78 2.81-2.81c.8-.78.8-2.07 0-2.86zM5.41 20L4 18.59l7.72-7.72 1.47 1.35L5.41 20z\"/>\n",
              "  </svg>\n",
              "      </button>\n",
              "      \n",
              "  <style>\n",
              "    .colab-df-container {\n",
              "      display:flex;\n",
              "      flex-wrap:wrap;\n",
              "      gap: 12px;\n",
              "    }\n",
              "\n",
              "    .colab-df-convert {\n",
              "      background-color: #E8F0FE;\n",
              "      border: none;\n",
              "      border-radius: 50%;\n",
              "      cursor: pointer;\n",
              "      display: none;\n",
              "      fill: #1967D2;\n",
              "      height: 32px;\n",
              "      padding: 0 0 0 0;\n",
              "      width: 32px;\n",
              "    }\n",
              "\n",
              "    .colab-df-convert:hover {\n",
              "      background-color: #E2EBFA;\n",
              "      box-shadow: 0px 1px 2px rgba(60, 64, 67, 0.3), 0px 1px 3px 1px rgba(60, 64, 67, 0.15);\n",
              "      fill: #174EA6;\n",
              "    }\n",
              "\n",
              "    [theme=dark] .colab-df-convert {\n",
              "      background-color: #3B4455;\n",
              "      fill: #D2E3FC;\n",
              "    }\n",
              "\n",
              "    [theme=dark] .colab-df-convert:hover {\n",
              "      background-color: #434B5C;\n",
              "      box-shadow: 0px 1px 3px 1px rgba(0, 0, 0, 0.15);\n",
              "      filter: drop-shadow(0px 1px 2px rgba(0, 0, 0, 0.3));\n",
              "      fill: #FFFFFF;\n",
              "    }\n",
              "  </style>\n",
              "\n",
              "      <script>\n",
              "        const buttonEl =\n",
              "          document.querySelector('#df-741c87f8-5f8f-4922-911b-a321dd5786bf button.colab-df-convert');\n",
              "        buttonEl.style.display =\n",
              "          google.colab.kernel.accessAllowed ? 'block' : 'none';\n",
              "\n",
              "        async function convertToInteractive(key) {\n",
              "          const element = document.querySelector('#df-741c87f8-5f8f-4922-911b-a321dd5786bf');\n",
              "          const dataTable =\n",
              "            await google.colab.kernel.invokeFunction('convertToInteractive',\n",
              "                                                     [key], {});\n",
              "          if (!dataTable) return;\n",
              "\n",
              "          const docLinkHtml = 'Like what you see? Visit the ' +\n",
              "            '<a target=\"_blank\" href=https://colab.research.google.com/notebooks/data_table.ipynb>data table notebook</a>'\n",
              "            + ' to learn more about interactive tables.';\n",
              "          element.innerHTML = '';\n",
              "          dataTable['output_type'] = 'display_data';\n",
              "          await google.colab.output.renderOutput(dataTable, element);\n",
              "          const docLink = document.createElement('div');\n",
              "          docLink.innerHTML = docLinkHtml;\n",
              "          element.appendChild(docLink);\n",
              "        }\n",
              "      </script>\n",
              "    </div>\n",
              "  </div>\n",
              "  "
            ],
            "text/plain": [
              "                                                Sentence  Label     Id\n",
              "0      chemistry scientific study property behavior m...      0      1\n",
              "1      scope subject chemistry occupies intermediate ...      0      2\n",
              "2      word chemistry come modification renaissance w...      0      3\n",
              "3      modern word alchemy turn derived arabic word a...      0      4\n",
              "4      current model atomic structure quantum mechani...      0      5\n",
              "...                                                  ...    ...    ...\n",
              "23845  oi provides continuous real time analytics dat...     16  25684\n",
              "23846  needed glimpse historical performance specific...     16  25685\n",
              "23847  system management mainly refers availability c...     16  25686\n",
              "23848  strong relationship complex event processing c...     16  25687\n",
              "23849  business activity monitoring bam software aid ...     16  25688\n",
              "\n",
              "[23850 rows x 3 columns]"
            ]
          },
          "execution_count": 28,
          "metadata": {},
          "output_type": "execute_result"
        }
      ],
      "source": [
        "dataset2"
      ]
    },
    {
      "cell_type": "code",
      "execution_count": null,
      "metadata": {
        "colab": {
          "base_uri": "https://localhost:8080/"
        },
        "id": "xM2jKKCRnZV5",
        "outputId": "913058f2-a7e4-41ac-84c3-9da49e910bd7"
      },
      "outputs": [
        {
          "data": {
            "text/plain": [
              "26481"
            ]
          },
          "execution_count": 23,
          "metadata": {},
          "output_type": "execute_result"
        }
      ],
      "source": [
        "len(corpus)"
      ]
    },
    {
      "cell_type": "code",
      "execution_count": null,
      "metadata": {
        "id": "n1DZVTTBaaRp"
      },
      "outputs": [],
      "source": [
        "def get_the_pures(origin_list, target_list, dataset):\n",
        "  j = 0\n",
        "\n",
        "  for i, par in enumerate(origin_list):\n",
        "    if(j>=len(target_list) or par != target_list[j]):\n",
        "      dataset.drop(i, inplace = True)\n",
        "    else:\n",
        "      j+=1"
      ]
    },
    {
      "cell_type": "code",
      "execution_count": null,
      "metadata": {
        "id": "_oHwLiVWjZ0a"
      },
      "outputs": [],
      "source": [
        "pars2 = dataset2['Sentence']\n",
        "j = 0\n",
        "\n",
        "for i, par in enumerate(corpus):\n",
        "  if(j>=len(pars2) or par != pars2[j]):\n",
        "    dataset.drop(i, inplace = True)\n",
        "  else:\n",
        "    j+=1\n",
        "\n",
        "dataset.to_csv('FFEn.csv')\n",
        "!cp FFEn.csv \"drive/My Drive\""
      ]
    },
    {
      "cell_type": "code",
      "execution_count": null,
      "metadata": {
        "id": "rQjNlXpllXI7"
      },
      "outputs": [],
      "source": [
        "get_the_pures(corpus, dataset2['Sentence'], dataset)"
      ]
    },
    {
      "cell_type": "code",
      "execution_count": null,
      "metadata": {
        "id": "Iw2WRdUClNXz"
      },
      "outputs": [],
      "source": [
        "get_the_pures(dataset['Id'], dataset2['Id'], dataset)"
      ]
    },
    {
      "cell_type": "code",
      "execution_count": null,
      "metadata": {
        "colab": {
          "base_uri": "https://localhost:8080/",
          "height": 424
        },
        "id": "IgiZDWv1uKXe",
        "outputId": "444607bb-8d56-49f0-ca23-d07e6b7ccc96"
      },
      "outputs": [
        {
          "data": {
            "text/html": [
              "\n",
              "  <div id=\"df-5b9479d3-9ade-40bf-acee-0f02b4663cdc\">\n",
              "    <div class=\"colab-df-container\">\n",
              "      <div>\n",
              "<style scoped>\n",
              "    .dataframe tbody tr th:only-of-type {\n",
              "        vertical-align: middle;\n",
              "    }\n",
              "\n",
              "    .dataframe tbody tr th {\n",
              "        vertical-align: top;\n",
              "    }\n",
              "\n",
              "    .dataframe thead th {\n",
              "        text-align: right;\n",
              "    }\n",
              "</style>\n",
              "<table border=\"1\" class=\"dataframe\">\n",
              "  <thead>\n",
              "    <tr style=\"text-align: right;\">\n",
              "      <th></th>\n",
              "      <th>Sentence</th>\n",
              "      <th>Label</th>\n",
              "      <th>Id</th>\n",
              "      <th></th>\n",
              "    </tr>\n",
              "  </thead>\n",
              "  <tbody>\n",
              "    <tr>\n",
              "      <th>0</th>\n",
              "      <td>Chemistry is the scientific study of the prope...</td>\n",
              "      <td>0</td>\n",
              "      <td>1</td>\n",
              "      <td>22574</td>\n",
              "    </tr>\n",
              "    <tr>\n",
              "      <th>1</th>\n",
              "      <td>In the scope of its subject, chemistry occupie...</td>\n",
              "      <td>0</td>\n",
              "      <td>2</td>\n",
              "      <td>9645</td>\n",
              "    </tr>\n",
              "    <tr>\n",
              "      <th>2</th>\n",
              "      <td>The word chemistry comes from a modification d...</td>\n",
              "      <td>0</td>\n",
              "      <td>3</td>\n",
              "      <td>1835</td>\n",
              "    </tr>\n",
              "    <tr>\n",
              "      <th>3</th>\n",
              "      <td>The modern word alchemy in turn is derived fro...</td>\n",
              "      <td>0</td>\n",
              "      <td>4</td>\n",
              "      <td>9898</td>\n",
              "    </tr>\n",
              "    <tr>\n",
              "      <th>4</th>\n",
              "      <td>The current model of atomic structure is the q...</td>\n",
              "      <td>0</td>\n",
              "      <td>5</td>\n",
              "      <td>17306</td>\n",
              "    </tr>\n",
              "    <tr>\n",
              "      <th>...</th>\n",
              "      <td>...</td>\n",
              "      <td>...</td>\n",
              "      <td>...</td>\n",
              "      <td>...</td>\n",
              "    </tr>\n",
              "    <tr>\n",
              "      <th>26475</th>\n",
              "      <td>OI provides continuous, real-time analytics on...</td>\n",
              "      <td>16</td>\n",
              "      <td>26476</td>\n",
              "      <td></td>\n",
              "    </tr>\n",
              "    <tr>\n",
              "      <th>26476</th>\n",
              "      <td>If all that is needed is a glimpse at historic...</td>\n",
              "      <td>16</td>\n",
              "      <td>26477</td>\n",
              "      <td></td>\n",
              "    </tr>\n",
              "    <tr>\n",
              "      <th>26477</th>\n",
              "      <td>System Management mainly refers to the availab...</td>\n",
              "      <td>16</td>\n",
              "      <td>26478</td>\n",
              "      <td></td>\n",
              "    </tr>\n",
              "    <tr>\n",
              "      <th>26478</th>\n",
              "      <td>There is a strong relationship between complex...</td>\n",
              "      <td>16</td>\n",
              "      <td>26479</td>\n",
              "      <td></td>\n",
              "    </tr>\n",
              "    <tr>\n",
              "      <th>26479</th>\n",
              "      <td>Business activity monitoring (BAM) is software...</td>\n",
              "      <td>16</td>\n",
              "      <td>26480</td>\n",
              "      <td></td>\n",
              "    </tr>\n",
              "  </tbody>\n",
              "</table>\n",
              "<p>23465 rows × 4 columns</p>\n",
              "</div>\n",
              "      <button class=\"colab-df-convert\" onclick=\"convertToInteractive('df-5b9479d3-9ade-40bf-acee-0f02b4663cdc')\"\n",
              "              title=\"Convert this dataframe to an interactive table.\"\n",
              "              style=\"display:none;\">\n",
              "        \n",
              "  <svg xmlns=\"http://www.w3.org/2000/svg\" height=\"24px\"viewBox=\"0 0 24 24\"\n",
              "       width=\"24px\">\n",
              "    <path d=\"M0 0h24v24H0V0z\" fill=\"none\"/>\n",
              "    <path d=\"M18.56 5.44l.94 2.06.94-2.06 2.06-.94-2.06-.94-.94-2.06-.94 2.06-2.06.94zm-11 1L8.5 8.5l.94-2.06 2.06-.94-2.06-.94L8.5 2.5l-.94 2.06-2.06.94zm10 10l.94 2.06.94-2.06 2.06-.94-2.06-.94-.94-2.06-.94 2.06-2.06.94z\"/><path d=\"M17.41 7.96l-1.37-1.37c-.4-.4-.92-.59-1.43-.59-.52 0-1.04.2-1.43.59L10.3 9.45l-7.72 7.72c-.78.78-.78 2.05 0 2.83L4 21.41c.39.39.9.59 1.41.59.51 0 1.02-.2 1.41-.59l7.78-7.78 2.81-2.81c.8-.78.8-2.07 0-2.86zM5.41 20L4 18.59l7.72-7.72 1.47 1.35L5.41 20z\"/>\n",
              "  </svg>\n",
              "      </button>\n",
              "      \n",
              "  <style>\n",
              "    .colab-df-container {\n",
              "      display:flex;\n",
              "      flex-wrap:wrap;\n",
              "      gap: 12px;\n",
              "    }\n",
              "\n",
              "    .colab-df-convert {\n",
              "      background-color: #E8F0FE;\n",
              "      border: none;\n",
              "      border-radius: 50%;\n",
              "      cursor: pointer;\n",
              "      display: none;\n",
              "      fill: #1967D2;\n",
              "      height: 32px;\n",
              "      padding: 0 0 0 0;\n",
              "      width: 32px;\n",
              "    }\n",
              "\n",
              "    .colab-df-convert:hover {\n",
              "      background-color: #E2EBFA;\n",
              "      box-shadow: 0px 1px 2px rgba(60, 64, 67, 0.3), 0px 1px 3px 1px rgba(60, 64, 67, 0.15);\n",
              "      fill: #174EA6;\n",
              "    }\n",
              "\n",
              "    [theme=dark] .colab-df-convert {\n",
              "      background-color: #3B4455;\n",
              "      fill: #D2E3FC;\n",
              "    }\n",
              "\n",
              "    [theme=dark] .colab-df-convert:hover {\n",
              "      background-color: #434B5C;\n",
              "      box-shadow: 0px 1px 3px 1px rgba(0, 0, 0, 0.15);\n",
              "      filter: drop-shadow(0px 1px 2px rgba(0, 0, 0, 0.3));\n",
              "      fill: #FFFFFF;\n",
              "    }\n",
              "  </style>\n",
              "\n",
              "      <script>\n",
              "        const buttonEl =\n",
              "          document.querySelector('#df-5b9479d3-9ade-40bf-acee-0f02b4663cdc button.colab-df-convert');\n",
              "        buttonEl.style.display =\n",
              "          google.colab.kernel.accessAllowed ? 'block' : 'none';\n",
              "\n",
              "        async function convertToInteractive(key) {\n",
              "          const element = document.querySelector('#df-5b9479d3-9ade-40bf-acee-0f02b4663cdc');\n",
              "          const dataTable =\n",
              "            await google.colab.kernel.invokeFunction('convertToInteractive',\n",
              "                                                     [key], {});\n",
              "          if (!dataTable) return;\n",
              "\n",
              "          const docLinkHtml = 'Like what you see? Visit the ' +\n",
              "            '<a target=\"_blank\" href=https://colab.research.google.com/notebooks/data_table.ipynb>data table notebook</a>'\n",
              "            + ' to learn more about interactive tables.';\n",
              "          element.innerHTML = '';\n",
              "          dataTable['output_type'] = 'display_data';\n",
              "          await google.colab.output.renderOutput(dataTable, element);\n",
              "          const docLink = document.createElement('div');\n",
              "          docLink.innerHTML = docLinkHtml;\n",
              "          element.appendChild(docLink);\n",
              "        }\n",
              "      </script>\n",
              "    </div>\n",
              "  </div>\n",
              "  "
            ],
            "text/plain": [
              "                                                Sentence  Label     Id       \n",
              "0      Chemistry is the scientific study of the prope...      0      1  22574\n",
              "1      In the scope of its subject, chemistry occupie...      0      2   9645\n",
              "2      The word chemistry comes from a modification d...      0      3   1835\n",
              "3      The modern word alchemy in turn is derived fro...      0      4   9898\n",
              "4      The current model of atomic structure is the q...      0      5  17306\n",
              "...                                                  ...    ...    ...    ...\n",
              "26475  OI provides continuous, real-time analytics on...     16  26476       \n",
              "26476  If all that is needed is a glimpse at historic...     16  26477       \n",
              "26477  System Management mainly refers to the availab...     16  26478       \n",
              "26478  There is a strong relationship between complex...     16  26479       \n",
              "26479  Business activity monitoring (BAM) is software...     16  26480       \n",
              "\n",
              "[23465 rows x 4 columns]"
            ]
          },
          "execution_count": 9,
          "metadata": {},
          "output_type": "execute_result"
        }
      ],
      "source": [
        "dataset"
      ]
    },
    {
      "cell_type": "code",
      "execution_count": null,
      "metadata": {
        "id": "yNmm3t0_sX2b"
      },
      "outputs": [],
      "source": [
        "dataset.to_csv('FFEn2.csv')\n",
        "!cp FFEn2.csv \"drive/My Drive\""
      ]
    },
    {
      "cell_type": "code",
      "execution_count": null,
      "metadata": {
        "colab": {
          "base_uri": "https://localhost:8080/"
        },
        "id": "Wb9rO5VRI9xX",
        "outputId": "1028ab60-281d-44c1-8654-4160b589de59"
      },
      "outputs": [
        {
          "data": {
            "text/plain": [
              "0        Chemistry is the scientific study of the prope...\n",
              "1        In the scope of its subject, chemistry occupie...\n",
              "2        The word chemistry comes from a modification d...\n",
              "3        The modern word alchemy in turn is derived fro...\n",
              "4        The current model of atomic structure is the q...\n",
              "                               ...                        \n",
              "26475    OI provides continuous, real-time analytics on...\n",
              "26476    If all that is needed is a glimpse at historic...\n",
              "26477    System Management mainly refers to the availab...\n",
              "26478    There is a strong relationship between complex...\n",
              "26479    Business activity monitoring (BAM) is software...\n",
              "Name: Sentence, Length: 23850, dtype: object"
            ]
          },
          "execution_count": 36,
          "metadata": {},
          "output_type": "execute_result"
        }
      ],
      "source": [
        "dataset['Sentence']"
      ]
    },
    {
      "cell_type": "markdown",
      "metadata": {
        "id": "bqn6_W4WAOlr"
      },
      "source": [
        "1. when corpus is done, cteate a dataset with corpus, labels and ids\n",
        "\n",
        "while(accuracy < 90):\n",
        "2. get x and y from the list\n",
        "3. figure what happens to the ids after randomizing\n",
        "4. pridict and drop the wrongs based on ids"
      ]
    }
  ],
  "metadata": {
    "colab": {
      "collapsed_sections": [
        "KFdOx0nZNreC",
        "yUdM-y1pL92K",
        "D3oTtR9yHiWd",
        "5MKjoCHPQlMv",
        "4_Xm_TdmPrM6",
        "X2X19cSeN1QA",
        "MWBkd5nHVFlZ",
        "uPbUHlOzP-Es",
        "KU2PBYQ0HJCU"
      ],
      "provenance": [],
      "toc_visible": true
    },
    "kernelspec": {
      "display_name": "Python 3",
      "name": "python3"
    },
    "language_info": {
      "name": "python"
    }
  },
  "nbformat": 4,
  "nbformat_minor": 0
}